{
 "cells": [
  {
   "cell_type": "markdown",
   "id": "999db229",
   "metadata": {},
   "source": [
    "### Assignment Objective:\n",
    "    Build the best model to classify the Amazon dataset's positive and negative comments. "
   ]
  },
  {
   "cell_type": "markdown",
   "id": "f759fbe3",
   "metadata": {},
   "source": [
    "### Dataset Description:\n",
    "- reviewText: Contains the comments.\n",
    "- Positive: 1 indicates a positive comment, 0 indicates a negative comment."
   ]
  },
  {
   "cell_type": "markdown",
   "id": "cc48d253",
   "metadata": {},
   "source": [
    "### Steps:\n",
    "- Load the dataset.\n",
    "- Clean the text data by removing stop words, and punctuation, and performing stemming/lemmatization.\n",
    "- Tokenize the comments.\n",
    "- Convert the text data into a numerical format using TF-IDF or word embeddings.\n",
    "- Select at least three different machine learning models for comparison. Possible models include:\n",
    "  1. Logistic Regression\n",
    "  2. Naive Bayes\n",
    "  3. Support Vector Machine (SVM) (Next Class)\n",
    "  4. Random Forest (Next Class)\n",
    "- Split the dataset into training (80%) and testing (20%) sets.\n",
    "- Train each model on the training data.\n",
    "- Evaluate each model using the testing data.\n",
    "- Use evaluation metrics such as accuracy, precision, recall, and F1 score to compare the models. \n",
    "- Perform hyperparameter tuning using Grid Search or Random Search for each model to find the best hyperparameters.\n",
    "- Select the best-performing model based on evaluation metrics.\n",
    "- Optionally, create an ensemble model by combining different models to improve performance.\n",
    "- Provide a detailed report on the data preprocessing steps, model selection, training process, evaluation results, and final model selection.\n",
    "- Include visualizations such as confusion matrices and ROC curves."
   ]
  },
  {
   "cell_type": "markdown",
   "id": "aad68881",
   "metadata": {},
   "source": [
    "### Submission Requirements: GitHub\n",
    "- Source code in a Jupyter Notebook script.\n",
    "- A report detailing the process and findings."
   ]
  },
  {
   "cell_type": "markdown",
   "id": "bde6538c",
   "metadata": {},
   "source": [
    "### Dataset:"
   ]
  },
  {
   "cell_type": "code",
   "execution_count": 1,
   "id": "ce2615d1",
   "metadata": {},
   "outputs": [
    {
     "data": {
      "text/html": [
       "<div>\n",
       "<style scoped>\n",
       "    .dataframe tbody tr th:only-of-type {\n",
       "        vertical-align: middle;\n",
       "    }\n",
       "\n",
       "    .dataframe tbody tr th {\n",
       "        vertical-align: top;\n",
       "    }\n",
       "\n",
       "    .dataframe thead th {\n",
       "        text-align: right;\n",
       "    }\n",
       "</style>\n",
       "<table border=\"1\" class=\"dataframe\">\n",
       "  <thead>\n",
       "    <tr style=\"text-align: right;\">\n",
       "      <th></th>\n",
       "      <th>reviewText</th>\n",
       "      <th>Positive</th>\n",
       "    </tr>\n",
       "  </thead>\n",
       "  <tbody>\n",
       "    <tr>\n",
       "      <th>0</th>\n",
       "      <td>This is a one of the best apps acording to a b...</td>\n",
       "      <td>1</td>\n",
       "    </tr>\n",
       "    <tr>\n",
       "      <th>1</th>\n",
       "      <td>This is a pretty good version of the game for ...</td>\n",
       "      <td>1</td>\n",
       "    </tr>\n",
       "    <tr>\n",
       "      <th>2</th>\n",
       "      <td>this is a really cool game. there are a bunch ...</td>\n",
       "      <td>1</td>\n",
       "    </tr>\n",
       "    <tr>\n",
       "      <th>3</th>\n",
       "      <td>This is a silly game and can be frustrating, b...</td>\n",
       "      <td>1</td>\n",
       "    </tr>\n",
       "    <tr>\n",
       "      <th>4</th>\n",
       "      <td>This is a terrific game on any pad. Hrs of fun...</td>\n",
       "      <td>1</td>\n",
       "    </tr>\n",
       "  </tbody>\n",
       "</table>\n",
       "</div>"
      ],
      "text/plain": [
       "                                          reviewText  Positive\n",
       "0  This is a one of the best apps acording to a b...         1\n",
       "1  This is a pretty good version of the game for ...         1\n",
       "2  this is a really cool game. there are a bunch ...         1\n",
       "3  This is a silly game and can be frustrating, b...         1\n",
       "4  This is a terrific game on any pad. Hrs of fun...         1"
      ]
     },
     "execution_count": 1,
     "metadata": {},
     "output_type": "execute_result"
    }
   ],
   "source": [
    "import pandas as pd\n",
    "data = pd.read_csv('amazon.csv')\n",
    "data.head()"
   ]
  },
  {
   "cell_type": "code",
   "execution_count": null,
   "id": "a8e63e23",
   "metadata": {},
   "outputs": [],
   "source": []
  }
 ],
 "metadata": {
  "kernelspec": {
   "display_name": "Python 3 (ipykernel)",
   "language": "python",
   "name": "python3"
  },
  "language_info": {
   "codemirror_mode": {
    "name": "ipython",
    "version": 3
   },
   "file_extension": ".py",
   "mimetype": "text/x-python",
   "name": "python",
   "nbconvert_exporter": "python",
   "pygments_lexer": "ipython3",
   "version": "3.11.5"
  }
 },
 "nbformat": 4,
 "nbformat_minor": 5
}
