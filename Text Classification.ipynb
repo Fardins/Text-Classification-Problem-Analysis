{
 "cells": [
  {
   "cell_type": "markdown",
   "id": "92725778",
   "metadata": {},
   "source": [
    "### Step 1: Import necessary libraries"
   ]
  },
  {
   "cell_type": "code",
   "execution_count": 1,
   "id": "50412ddf",
   "metadata": {},
   "outputs": [],
   "source": [
    "import pandas as pd\n",
    "import numpy as np\n",
    "import seaborn as sns\n",
    "import matplotlib.pyplot as plt\n",
    "import plotly.express as px\n",
    "import string \n",
    "from sklearn.model_selection import train_test_split \n",
    "\n",
    "from sklearn.feature_extraction.text import TfidfVectorizer\n",
    "from sklearn.naive_bayes import MultinomialNB, BernoulliNB\n",
    "from sklearn.linear_model import LogisticRegression\n",
    "\n",
    "from sklearn.metrics import accuracy_score, confusion_matrix, roc_auc_score, roc_curve, RocCurveDisplay, classification_report\n",
    "from sklearn.metrics import precision_recall_curve, auc\n",
    "from wordcloud import WordCloud \n",
    "from nltk.tokenize import word_tokenize\n",
    "from nltk.corpus import stopwords\n",
    "from nltk.stem import WordNetLemmatizer\n",
    "\n",
    "import warnings\n",
    "warnings.filterwarnings('ignore')"
   ]
  },
  {
   "cell_type": "markdown",
   "id": "f2b43904",
   "metadata": {},
   "source": [
    "### Step 2: Load the dataset"
   ]
  },
  {
   "cell_type": "code",
   "execution_count": 2,
   "id": "89a51d9d",
   "metadata": {},
   "outputs": [
    {
     "data": {
      "text/html": [
       "<div>\n",
       "<style scoped>\n",
       "    .dataframe tbody tr th:only-of-type {\n",
       "        vertical-align: middle;\n",
       "    }\n",
       "\n",
       "    .dataframe tbody tr th {\n",
       "        vertical-align: top;\n",
       "    }\n",
       "\n",
       "    .dataframe thead th {\n",
       "        text-align: right;\n",
       "    }\n",
       "</style>\n",
       "<table border=\"1\" class=\"dataframe\">\n",
       "  <thead>\n",
       "    <tr style=\"text-align: right;\">\n",
       "      <th></th>\n",
       "      <th>reviewText</th>\n",
       "      <th>Positive</th>\n",
       "    </tr>\n",
       "  </thead>\n",
       "  <tbody>\n",
       "    <tr>\n",
       "      <th>0</th>\n",
       "      <td>This is a one of the best apps acording to a b...</td>\n",
       "      <td>1</td>\n",
       "    </tr>\n",
       "    <tr>\n",
       "      <th>1</th>\n",
       "      <td>This is a pretty good version of the game for ...</td>\n",
       "      <td>1</td>\n",
       "    </tr>\n",
       "    <tr>\n",
       "      <th>2</th>\n",
       "      <td>this is a really cool game. there are a bunch ...</td>\n",
       "      <td>1</td>\n",
       "    </tr>\n",
       "    <tr>\n",
       "      <th>3</th>\n",
       "      <td>This is a silly game and can be frustrating, b...</td>\n",
       "      <td>1</td>\n",
       "    </tr>\n",
       "    <tr>\n",
       "      <th>4</th>\n",
       "      <td>This is a terrific game on any pad. Hrs of fun...</td>\n",
       "      <td>1</td>\n",
       "    </tr>\n",
       "  </tbody>\n",
       "</table>\n",
       "</div>"
      ],
      "text/plain": [
       "                                          reviewText  Positive\n",
       "0  This is a one of the best apps acording to a b...         1\n",
       "1  This is a pretty good version of the game for ...         1\n",
       "2  this is a really cool game. there are a bunch ...         1\n",
       "3  This is a silly game and can be frustrating, b...         1\n",
       "4  This is a terrific game on any pad. Hrs of fun...         1"
      ]
     },
     "execution_count": 2,
     "metadata": {},
     "output_type": "execute_result"
    }
   ],
   "source": [
    "data = pd.read_csv('amazon.csv')\n",
    "data.head()"
   ]
  },
  {
   "cell_type": "code",
   "execution_count": 3,
   "id": "7cd3dad3",
   "metadata": {},
   "outputs": [
    {
     "data": {
      "text/plain": [
       "Index(['reviewText', 'Positive'], dtype='object')"
      ]
     },
     "execution_count": 3,
     "metadata": {},
     "output_type": "execute_result"
    }
   ],
   "source": [
    "data.columns"
   ]
  },
  {
   "cell_type": "code",
   "execution_count": 4,
   "id": "c50702ef",
   "metadata": {},
   "outputs": [
    {
     "data": {
      "text/plain": [
       "(20000, 2)"
      ]
     },
     "execution_count": 4,
     "metadata": {},
     "output_type": "execute_result"
    }
   ],
   "source": [
    "data.shape"
   ]
  },
  {
   "cell_type": "code",
   "execution_count": 5,
   "id": "584fc565",
   "metadata": {},
   "outputs": [
    {
     "name": "stdout",
     "output_type": "stream",
     "text": [
      "<class 'pandas.core.frame.DataFrame'>\n",
      "RangeIndex: 20000 entries, 0 to 19999\n",
      "Data columns (total 2 columns):\n",
      " #   Column      Non-Null Count  Dtype \n",
      "---  ------      --------------  ----- \n",
      " 0   reviewText  20000 non-null  object\n",
      " 1   Positive    20000 non-null  int64 \n",
      "dtypes: int64(1), object(1)\n",
      "memory usage: 312.6+ KB\n"
     ]
    }
   ],
   "source": [
    "data.info()"
   ]
  },
  {
   "cell_type": "code",
   "execution_count": 6,
   "id": "09b963eb",
   "metadata": {},
   "outputs": [
    {
     "data": {
      "text/plain": [
       "reviewText    0\n",
       "Positive      0\n",
       "dtype: int64"
      ]
     },
     "execution_count": 6,
     "metadata": {},
     "output_type": "execute_result"
    }
   ],
   "source": [
    "data.isnull().sum()"
   ]
  },
  {
   "cell_type": "code",
   "execution_count": 7,
   "id": "b026d7be",
   "metadata": {},
   "outputs": [],
   "source": [
    "#Note: There are no missing values in our dataframe."
   ]
  },
  {
   "cell_type": "markdown",
   "id": "6693d54f",
   "metadata": {},
   "source": [
    "### Step 3:Clean the text data by removing stop words, punctuation and performing stemming/lemmatization."
   ]
  },
  {
   "cell_type": "markdown",
   "id": "d2706d64",
   "metadata": {},
   "source": [
    "#### Handle stop words & punctuation:"
   ]
  },
  {
   "cell_type": "code",
   "execution_count": 8,
   "id": "75668148",
   "metadata": {},
   "outputs": [],
   "source": [
    "text_column = 'reviewText'\n",
    "label_column = 'Positive'\n",
    "english_stopwords = set(stopwords.words('english'))\n",
    "english_punctuation = string.punctuation"
   ]
  },
  {
   "cell_type": "code",
   "execution_count": 9,
   "id": "c5e628c2",
   "metadata": {},
   "outputs": [],
   "source": [
    "def preprocess_text(text): \n",
    "    # Remove punctuation\n",
    "    remove_punc = [char for char in text if char not in english_punctuation]\n",
    "    clean_text = ''.join(remove_punc) # char joining\n",
    "\n",
    "    #Remove stopwords\n",
    "    words = clean_text.split()\n",
    "    text = ([word for word in words if word.lower() not in english_stopwords])\n",
    "    return text"
   ]
  },
  {
   "cell_type": "code",
   "execution_count": 10,
   "id": "1f7fe2ee",
   "metadata": {},
   "outputs": [],
   "source": [
    "data[text_column] = data[text_column].apply(preprocess_text) "
   ]
  },
  {
   "cell_type": "code",
   "execution_count": 11,
   "id": "205570d8",
   "metadata": {},
   "outputs": [
    {
     "data": {
      "text/plain": [
       "0        [one, best, apps, acording, bunch, people, agr...\n",
       "1        [pretty, good, version, game, free, LOTS, diff...\n",
       "2        [really, cool, game, bunch, levels, find, gold...\n",
       "3        [silly, game, frustrating, lots, fun, definite...\n",
       "4        [terrific, game, pad, Hrs, fun, grandkids, lov...\n",
       "                               ...                        \n",
       "19995    [app, fricken, stupidit, froze, kindle, wont, ...\n",
       "19996    [Please, add, need, neighbors, Ginger1016, tha...\n",
       "19997    [love, game, awesome, wish, free, stuff, house...\n",
       "19998    [love, love, love, app, side, fashion, story, ...\n",
       "19999    [game, rip, list, things, MAKE, BETTERbull, Fi...\n",
       "Name: reviewText, Length: 20000, dtype: object"
      ]
     },
     "execution_count": 11,
     "metadata": {},
     "output_type": "execute_result"
    }
   ],
   "source": [
    "data[text_column] "
   ]
  },
  {
   "cell_type": "code",
   "execution_count": 12,
   "id": "ddb5ddf7",
   "metadata": {},
   "outputs": [
    {
     "data": {
      "text/plain": [
       "['one',\n",
       " 'best',\n",
       " 'apps',\n",
       " 'acording',\n",
       " 'bunch',\n",
       " 'people',\n",
       " 'agree',\n",
       " 'bombs',\n",
       " 'eggs',\n",
       " 'pigs',\n",
       " 'TNT',\n",
       " 'king',\n",
       " 'pigs',\n",
       " 'realustic',\n",
       " 'stuff']"
      ]
     },
     "execution_count": 12,
     "metadata": {},
     "output_type": "execute_result"
    }
   ],
   "source": [
    "data[text_column][0]"
   ]
  },
  {
   "cell_type": "markdown",
   "id": "413698da",
   "metadata": {},
   "source": [
    "#### Lemmatization:"
   ]
  },
  {
   "cell_type": "code",
   "execution_count": 13,
   "id": "33b1e856",
   "metadata": {},
   "outputs": [],
   "source": [
    "lemmatizer = WordNetLemmatizer()\n",
    "\n",
    "def lemmatize_text(text):\n",
    "    lemmatized_text = ' '.join([lemmatizer.lemmatize(word) for word in text])\n",
    "    return lemmatized_text\n",
    "\n",
    "data[text_column] = data[text_column].apply(lemmatize_text)"
   ]
  },
  {
   "cell_type": "code",
   "execution_count": 14,
   "id": "890c4128",
   "metadata": {},
   "outputs": [
    {
     "data": {
      "text/plain": [
       "0        one best apps acording bunch people agree bomb...\n",
       "1        pretty good version game free LOTS different l...\n",
       "2        really cool game bunch level find golden egg s...\n",
       "3        silly game frustrating lot fun definitely reco...\n",
       "4        terrific game pad Hrs fun grandkids love Great...\n",
       "                               ...                        \n",
       "19995    app fricken stupidit froze kindle wont allow p...\n",
       "19996    Please add need neighbor Ginger1016 thanks bun...\n",
       "19997    love game awesome wish free stuff house didnt ...\n",
       "19998    love love love app side fashion story fight wo...\n",
       "19999    game rip list thing MAKE BETTERbull First NEED...\n",
       "Name: reviewText, Length: 20000, dtype: object"
      ]
     },
     "execution_count": 14,
     "metadata": {},
     "output_type": "execute_result"
    }
   ],
   "source": [
    "data[text_column] "
   ]
  },
  {
   "cell_type": "code",
   "execution_count": 15,
   "id": "fec146f7",
   "metadata": {},
   "outputs": [
    {
     "data": {
      "text/plain": [
       "'one best apps acording bunch people agree bomb egg pig TNT king pig realustic stuff'"
      ]
     },
     "execution_count": 15,
     "metadata": {},
     "output_type": "execute_result"
    }
   ],
   "source": [
    "data[text_column][0]"
   ]
  },
  {
   "cell_type": "markdown",
   "id": "f31eead4",
   "metadata": {},
   "source": [
    "### Step 4:Tokenize the comments."
   ]
  },
  {
   "cell_type": "code",
   "execution_count": 16,
   "id": "60e6fc38",
   "metadata": {},
   "outputs": [],
   "source": [
    "#for tokenize dataframe I use word_tokenizer\n",
    "def tokenize_text(text):\n",
    "    return word_tokenize(text)\n",
    "\n",
    "data[text_column] = data[text_column].apply(tokenize_text)"
   ]
  },
  {
   "cell_type": "code",
   "execution_count": 17,
   "id": "edd269fc",
   "metadata": {},
   "outputs": [
    {
     "data": {
      "text/plain": [
       "0        [one, best, apps, acording, bunch, people, agr...\n",
       "1        [pretty, good, version, game, free, LOTS, diff...\n",
       "2        [really, cool, game, bunch, level, find, golde...\n",
       "3        [silly, game, frustrating, lot, fun, definitel...\n",
       "4        [terrific, game, pad, Hrs, fun, grandkids, lov...\n",
       "                               ...                        \n",
       "19995    [app, fricken, stupidit, froze, kindle, wont, ...\n",
       "19996    [Please, add, need, neighbor, Ginger1016, than...\n",
       "19997    [love, game, awesome, wish, free, stuff, house...\n",
       "19998    [love, love, love, app, side, fashion, story, ...\n",
       "19999    [game, rip, list, thing, MAKE, BETTERbull, Fir...\n",
       "Name: reviewText, Length: 20000, dtype: object"
      ]
     },
     "execution_count": 17,
     "metadata": {},
     "output_type": "execute_result"
    }
   ],
   "source": [
    "data[text_column] "
   ]
  },
  {
   "cell_type": "code",
   "execution_count": 18,
   "id": "961a0854",
   "metadata": {},
   "outputs": [
    {
     "data": {
      "text/plain": [
       "['one',\n",
       " 'best',\n",
       " 'apps',\n",
       " 'acording',\n",
       " 'bunch',\n",
       " 'people',\n",
       " 'agree',\n",
       " 'bomb',\n",
       " 'egg',\n",
       " 'pig',\n",
       " 'TNT',\n",
       " 'king',\n",
       " 'pig',\n",
       " 'realustic',\n",
       " 'stuff']"
      ]
     },
     "execution_count": 18,
     "metadata": {},
     "output_type": "execute_result"
    }
   ],
   "source": [
    "data[text_column][0]"
   ]
  },
  {
   "cell_type": "markdown",
   "id": "b4ad2260",
   "metadata": {},
   "source": [
    "#### Lemmatization:"
   ]
  },
  {
   "cell_type": "code",
   "execution_count": 19,
   "id": "fea6f8c0",
   "metadata": {},
   "outputs": [],
   "source": [
    "lemmatizer = WordNetLemmatizer()\n",
    "\n",
    "def lemmatize_text(text):\n",
    "    lemmatized_text = ' '.join([lemmatizer.lemmatize(word) for word in text])\n",
    "    return lemmatized_text\n",
    "\n",
    "data[text_column] = data[text_column].apply(lemmatize_text)"
   ]
  },
  {
   "cell_type": "code",
   "execution_count": 20,
   "id": "f9a3dcbb",
   "metadata": {},
   "outputs": [
    {
     "data": {
      "text/plain": [
       "0        one best apps acording bunch people agree bomb...\n",
       "1        pretty good version game free LOTS different l...\n",
       "2        really cool game bunch level find golden egg s...\n",
       "3        silly game frustrating lot fun definitely reco...\n",
       "4        terrific game pad Hrs fun grandkids love Great...\n",
       "                               ...                        \n",
       "19995    app fricken stupidit froze kindle wont allow p...\n",
       "19996    Please add need neighbor Ginger1016 thanks bun...\n",
       "19997    love game awesome wish free stuff house didnt ...\n",
       "19998    love love love app side fashion story fight wo...\n",
       "19999    game rip list thing MAKE BETTERbull First NEED...\n",
       "Name: reviewText, Length: 20000, dtype: object"
      ]
     },
     "execution_count": 20,
     "metadata": {},
     "output_type": "execute_result"
    }
   ],
   "source": [
    "data[text_column] "
   ]
  },
  {
   "cell_type": "code",
   "execution_count": 21,
   "id": "e315da5c",
   "metadata": {},
   "outputs": [
    {
     "data": {
      "text/plain": [
       "'one best apps acording bunch people agree bomb egg pig TNT king pig realustic stuff'"
      ]
     },
     "execution_count": 21,
     "metadata": {},
     "output_type": "execute_result"
    }
   ],
   "source": [
    "data[text_column][0]"
   ]
  },
  {
   "cell_type": "markdown",
   "id": "4dd89331",
   "metadata": {},
   "source": [
    "### Step 5:Convert the text data into a numerical format using TF-IDF or word embeddings."
   ]
  },
  {
   "cell_type": "code",
   "execution_count": 22,
   "id": "964283df",
   "metadata": {},
   "outputs": [],
   "source": [
    "#I use TF-IDF\n",
    "vectorizer = TfidfVectorizer()\n",
    "\n",
    "x = vectorizer.fit_transform(data[text_column])\n",
    "y = data[label_column]"
   ]
  },
  {
   "cell_type": "code",
   "execution_count": 23,
   "id": "8e7f2281",
   "metadata": {},
   "outputs": [
    {
     "data": {
      "text/plain": [
       "array(<20000x22609 sparse matrix of type '<class 'numpy.float64'>'\n",
       "\twith 310998 stored elements in Compressed Sparse Row format>,\n",
       "      dtype=object)"
      ]
     },
     "execution_count": 23,
     "metadata": {},
     "output_type": "execute_result"
    }
   ],
   "source": [
    "np.array(x)"
   ]
  },
  {
   "cell_type": "code",
   "execution_count": 24,
   "id": "4c317f85",
   "metadata": {},
   "outputs": [],
   "source": [
    "cv_df = pd.DataFrame(x.toarray(), index=data[text_column], columns=vectorizer.get_feature_names_out())"
   ]
  },
  {
   "cell_type": "code",
   "execution_count": 25,
   "id": "8dc4f922",
   "metadata": {},
   "outputs": [
    {
     "data": {
      "text/html": [
       "<div>\n",
       "<style scoped>\n",
       "    .dataframe tbody tr th:only-of-type {\n",
       "        vertical-align: middle;\n",
       "    }\n",
       "\n",
       "    .dataframe tbody tr th {\n",
       "        vertical-align: top;\n",
       "    }\n",
       "\n",
       "    .dataframe thead th {\n",
       "        text-align: right;\n",
       "    }\n",
       "</style>\n",
       "<table border=\"1\" class=\"dataframe\">\n",
       "  <thead>\n",
       "    <tr style=\"text-align: right;\">\n",
       "      <th></th>\n",
       "      <th>00</th>\n",
       "      <th>000</th>\n",
       "      <th>000000</th>\n",
       "      <th>007</th>\n",
       "      <th>01302013</th>\n",
       "      <th>02</th>\n",
       "      <th>025cent</th>\n",
       "      <th>04042011</th>\n",
       "      <th>05</th>\n",
       "      <th>051414</th>\n",
       "      <th>...</th>\n",
       "      <th>zoology</th>\n",
       "      <th>zoom</th>\n",
       "      <th>zoomed</th>\n",
       "      <th>zooming</th>\n",
       "      <th>zpg</th>\n",
       "      <th>zumocast</th>\n",
       "      <th>zz</th>\n",
       "      <th>zzz</th>\n",
       "      <th>zzzz</th>\n",
       "      <th>zzzzz</th>\n",
       "    </tr>\n",
       "    <tr>\n",
       "      <th>reviewText</th>\n",
       "      <th></th>\n",
       "      <th></th>\n",
       "      <th></th>\n",
       "      <th></th>\n",
       "      <th></th>\n",
       "      <th></th>\n",
       "      <th></th>\n",
       "      <th></th>\n",
       "      <th></th>\n",
       "      <th></th>\n",
       "      <th></th>\n",
       "      <th></th>\n",
       "      <th></th>\n",
       "      <th></th>\n",
       "      <th></th>\n",
       "      <th></th>\n",
       "      <th></th>\n",
       "      <th></th>\n",
       "      <th></th>\n",
       "      <th></th>\n",
       "      <th></th>\n",
       "    </tr>\n",
       "  </thead>\n",
       "  <tbody>\n",
       "    <tr>\n",
       "      <th>one best apps acording bunch people agree bomb egg pig TNT king pig realustic stuff</th>\n",
       "      <td>0.0</td>\n",
       "      <td>0.0</td>\n",
       "      <td>0.0</td>\n",
       "      <td>0.0</td>\n",
       "      <td>0.0</td>\n",
       "      <td>0.0</td>\n",
       "      <td>0.0</td>\n",
       "      <td>0.0</td>\n",
       "      <td>0.0</td>\n",
       "      <td>0.0</td>\n",
       "      <td>...</td>\n",
       "      <td>0.0</td>\n",
       "      <td>0.0</td>\n",
       "      <td>0.0</td>\n",
       "      <td>0.0</td>\n",
       "      <td>0.0</td>\n",
       "      <td>0.0</td>\n",
       "      <td>0.0</td>\n",
       "      <td>0.0</td>\n",
       "      <td>0.0</td>\n",
       "      <td>0.0</td>\n",
       "    </tr>\n",
       "    <tr>\n",
       "      <th>pretty good version game free LOTS different level play kid enjoy lot</th>\n",
       "      <td>0.0</td>\n",
       "      <td>0.0</td>\n",
       "      <td>0.0</td>\n",
       "      <td>0.0</td>\n",
       "      <td>0.0</td>\n",
       "      <td>0.0</td>\n",
       "      <td>0.0</td>\n",
       "      <td>0.0</td>\n",
       "      <td>0.0</td>\n",
       "      <td>0.0</td>\n",
       "      <td>...</td>\n",
       "      <td>0.0</td>\n",
       "      <td>0.0</td>\n",
       "      <td>0.0</td>\n",
       "      <td>0.0</td>\n",
       "      <td>0.0</td>\n",
       "      <td>0.0</td>\n",
       "      <td>0.0</td>\n",
       "      <td>0.0</td>\n",
       "      <td>0.0</td>\n",
       "      <td>0.0</td>\n",
       "    </tr>\n",
       "    <tr>\n",
       "      <th>really cool game bunch level find golden egg super fun</th>\n",
       "      <td>0.0</td>\n",
       "      <td>0.0</td>\n",
       "      <td>0.0</td>\n",
       "      <td>0.0</td>\n",
       "      <td>0.0</td>\n",
       "      <td>0.0</td>\n",
       "      <td>0.0</td>\n",
       "      <td>0.0</td>\n",
       "      <td>0.0</td>\n",
       "      <td>0.0</td>\n",
       "      <td>...</td>\n",
       "      <td>0.0</td>\n",
       "      <td>0.0</td>\n",
       "      <td>0.0</td>\n",
       "      <td>0.0</td>\n",
       "      <td>0.0</td>\n",
       "      <td>0.0</td>\n",
       "      <td>0.0</td>\n",
       "      <td>0.0</td>\n",
       "      <td>0.0</td>\n",
       "      <td>0.0</td>\n",
       "    </tr>\n",
       "    <tr>\n",
       "      <th>silly game frustrating lot fun definitely recommend fun time</th>\n",
       "      <td>0.0</td>\n",
       "      <td>0.0</td>\n",
       "      <td>0.0</td>\n",
       "      <td>0.0</td>\n",
       "      <td>0.0</td>\n",
       "      <td>0.0</td>\n",
       "      <td>0.0</td>\n",
       "      <td>0.0</td>\n",
       "      <td>0.0</td>\n",
       "      <td>0.0</td>\n",
       "      <td>...</td>\n",
       "      <td>0.0</td>\n",
       "      <td>0.0</td>\n",
       "      <td>0.0</td>\n",
       "      <td>0.0</td>\n",
       "      <td>0.0</td>\n",
       "      <td>0.0</td>\n",
       "      <td>0.0</td>\n",
       "      <td>0.0</td>\n",
       "      <td>0.0</td>\n",
       "      <td>0.0</td>\n",
       "    </tr>\n",
       "    <tr>\n",
       "      <th>terrific game pad Hrs fun grandkids love Great entertainment waiting long line</th>\n",
       "      <td>0.0</td>\n",
       "      <td>0.0</td>\n",
       "      <td>0.0</td>\n",
       "      <td>0.0</td>\n",
       "      <td>0.0</td>\n",
       "      <td>0.0</td>\n",
       "      <td>0.0</td>\n",
       "      <td>0.0</td>\n",
       "      <td>0.0</td>\n",
       "      <td>0.0</td>\n",
       "      <td>...</td>\n",
       "      <td>0.0</td>\n",
       "      <td>0.0</td>\n",
       "      <td>0.0</td>\n",
       "      <td>0.0</td>\n",
       "      <td>0.0</td>\n",
       "      <td>0.0</td>\n",
       "      <td>0.0</td>\n",
       "      <td>0.0</td>\n",
       "      <td>0.0</td>\n",
       "      <td>0.0</td>\n",
       "    </tr>\n",
       "    <tr>\n",
       "      <th>...</th>\n",
       "      <td>...</td>\n",
       "      <td>...</td>\n",
       "      <td>...</td>\n",
       "      <td>...</td>\n",
       "      <td>...</td>\n",
       "      <td>...</td>\n",
       "      <td>...</td>\n",
       "      <td>...</td>\n",
       "      <td>...</td>\n",
       "      <td>...</td>\n",
       "      <td>...</td>\n",
       "      <td>...</td>\n",
       "      <td>...</td>\n",
       "      <td>...</td>\n",
       "      <td>...</td>\n",
       "      <td>...</td>\n",
       "      <td>...</td>\n",
       "      <td>...</td>\n",
       "      <td>...</td>\n",
       "      <td>...</td>\n",
       "      <td>...</td>\n",
       "    </tr>\n",
       "    <tr>\n",
       "      <th>app fricken stupidit froze kindle wont allow place iteams ignore 5 people wrong many level people made game excidently press wrong button money jer</th>\n",
       "      <td>0.0</td>\n",
       "      <td>0.0</td>\n",
       "      <td>0.0</td>\n",
       "      <td>0.0</td>\n",
       "      <td>0.0</td>\n",
       "      <td>0.0</td>\n",
       "      <td>0.0</td>\n",
       "      <td>0.0</td>\n",
       "      <td>0.0</td>\n",
       "      <td>0.0</td>\n",
       "      <td>...</td>\n",
       "      <td>0.0</td>\n",
       "      <td>0.0</td>\n",
       "      <td>0.0</td>\n",
       "      <td>0.0</td>\n",
       "      <td>0.0</td>\n",
       "      <td>0.0</td>\n",
       "      <td>0.0</td>\n",
       "      <td>0.0</td>\n",
       "      <td>0.0</td>\n",
       "      <td>0.0</td>\n",
       "    </tr>\n",
       "    <tr>\n",
       "      <th>Please add need neighbor Ginger1016 thanks bunch awesome game much fun lot like farmville FB</th>\n",
       "      <td>0.0</td>\n",
       "      <td>0.0</td>\n",
       "      <td>0.0</td>\n",
       "      <td>0.0</td>\n",
       "      <td>0.0</td>\n",
       "      <td>0.0</td>\n",
       "      <td>0.0</td>\n",
       "      <td>0.0</td>\n",
       "      <td>0.0</td>\n",
       "      <td>0.0</td>\n",
       "      <td>...</td>\n",
       "      <td>0.0</td>\n",
       "      <td>0.0</td>\n",
       "      <td>0.0</td>\n",
       "      <td>0.0</td>\n",
       "      <td>0.0</td>\n",
       "      <td>0.0</td>\n",
       "      <td>0.0</td>\n",
       "      <td>0.0</td>\n",
       "      <td>0.0</td>\n",
       "      <td>0.0</td>\n",
       "    </tr>\n",
       "    <tr>\n",
       "      <th>love game awesome wish free stuff house didnt cost much fun fun</th>\n",
       "      <td>0.0</td>\n",
       "      <td>0.0</td>\n",
       "      <td>0.0</td>\n",
       "      <td>0.0</td>\n",
       "      <td>0.0</td>\n",
       "      <td>0.0</td>\n",
       "      <td>0.0</td>\n",
       "      <td>0.0</td>\n",
       "      <td>0.0</td>\n",
       "      <td>0.0</td>\n",
       "      <td>...</td>\n",
       "      <td>0.0</td>\n",
       "      <td>0.0</td>\n",
       "      <td>0.0</td>\n",
       "      <td>0.0</td>\n",
       "      <td>0.0</td>\n",
       "      <td>0.0</td>\n",
       "      <td>0.0</td>\n",
       "      <td>0.0</td>\n",
       "      <td>0.0</td>\n",
       "      <td>0.0</td>\n",
       "    </tr>\n",
       "    <tr>\n",
       "      <th>love love love app side fashion story fight wonderful app love u really get nearly best app ever u get ignore fashion story safty oh totally free</th>\n",
       "      <td>0.0</td>\n",
       "      <td>0.0</td>\n",
       "      <td>0.0</td>\n",
       "      <td>0.0</td>\n",
       "      <td>0.0</td>\n",
       "      <td>0.0</td>\n",
       "      <td>0.0</td>\n",
       "      <td>0.0</td>\n",
       "      <td>0.0</td>\n",
       "      <td>0.0</td>\n",
       "      <td>...</td>\n",
       "      <td>0.0</td>\n",
       "      <td>0.0</td>\n",
       "      <td>0.0</td>\n",
       "      <td>0.0</td>\n",
       "      <td>0.0</td>\n",
       "      <td>0.0</td>\n",
       "      <td>0.0</td>\n",
       "      <td>0.0</td>\n",
       "      <td>0.0</td>\n",
       "      <td>0.0</td>\n",
       "    </tr>\n",
       "    <tr>\n",
       "      <th>game rip list thing MAKE BETTERbull First NEED REAL animalsbull Second NEED FARM BARN THINGbull Next need neigybors better foodbullThen need pick farmer User stormids L</th>\n",
       "      <td>0.0</td>\n",
       "      <td>0.0</td>\n",
       "      <td>0.0</td>\n",
       "      <td>0.0</td>\n",
       "      <td>0.0</td>\n",
       "      <td>0.0</td>\n",
       "      <td>0.0</td>\n",
       "      <td>0.0</td>\n",
       "      <td>0.0</td>\n",
       "      <td>0.0</td>\n",
       "      <td>...</td>\n",
       "      <td>0.0</td>\n",
       "      <td>0.0</td>\n",
       "      <td>0.0</td>\n",
       "      <td>0.0</td>\n",
       "      <td>0.0</td>\n",
       "      <td>0.0</td>\n",
       "      <td>0.0</td>\n",
       "      <td>0.0</td>\n",
       "      <td>0.0</td>\n",
       "      <td>0.0</td>\n",
       "    </tr>\n",
       "  </tbody>\n",
       "</table>\n",
       "<p>20000 rows × 22609 columns</p>\n",
       "</div>"
      ],
      "text/plain": [
       "                                                     00  000  000000  007  \\\n",
       "reviewText                                                                  \n",
       "one best apps acording bunch people agree bomb ...  0.0  0.0     0.0  0.0   \n",
       "pretty good version game free LOTS different le...  0.0  0.0     0.0  0.0   \n",
       "really cool game bunch level find golden egg su...  0.0  0.0     0.0  0.0   \n",
       "silly game frustrating lot fun definitely recom...  0.0  0.0     0.0  0.0   \n",
       "terrific game pad Hrs fun grandkids love Great ...  0.0  0.0     0.0  0.0   \n",
       "...                                                 ...  ...     ...  ...   \n",
       "app fricken stupidit froze kindle wont allow pl...  0.0  0.0     0.0  0.0   \n",
       "Please add need neighbor Ginger1016 thanks bunc...  0.0  0.0     0.0  0.0   \n",
       "love game awesome wish free stuff house didnt c...  0.0  0.0     0.0  0.0   \n",
       "love love love app side fashion story fight won...  0.0  0.0     0.0  0.0   \n",
       "game rip list thing MAKE BETTERbull First NEED ...  0.0  0.0     0.0  0.0   \n",
       "\n",
       "                                                    01302013   02  025cent  \\\n",
       "reviewText                                                                   \n",
       "one best apps acording bunch people agree bomb ...       0.0  0.0      0.0   \n",
       "pretty good version game free LOTS different le...       0.0  0.0      0.0   \n",
       "really cool game bunch level find golden egg su...       0.0  0.0      0.0   \n",
       "silly game frustrating lot fun definitely recom...       0.0  0.0      0.0   \n",
       "terrific game pad Hrs fun grandkids love Great ...       0.0  0.0      0.0   \n",
       "...                                                      ...  ...      ...   \n",
       "app fricken stupidit froze kindle wont allow pl...       0.0  0.0      0.0   \n",
       "Please add need neighbor Ginger1016 thanks bunc...       0.0  0.0      0.0   \n",
       "love game awesome wish free stuff house didnt c...       0.0  0.0      0.0   \n",
       "love love love app side fashion story fight won...       0.0  0.0      0.0   \n",
       "game rip list thing MAKE BETTERbull First NEED ...       0.0  0.0      0.0   \n",
       "\n",
       "                                                    04042011   05  051414  \\\n",
       "reviewText                                                                  \n",
       "one best apps acording bunch people agree bomb ...       0.0  0.0     0.0   \n",
       "pretty good version game free LOTS different le...       0.0  0.0     0.0   \n",
       "really cool game bunch level find golden egg su...       0.0  0.0     0.0   \n",
       "silly game frustrating lot fun definitely recom...       0.0  0.0     0.0   \n",
       "terrific game pad Hrs fun grandkids love Great ...       0.0  0.0     0.0   \n",
       "...                                                      ...  ...     ...   \n",
       "app fricken stupidit froze kindle wont allow pl...       0.0  0.0     0.0   \n",
       "Please add need neighbor Ginger1016 thanks bunc...       0.0  0.0     0.0   \n",
       "love game awesome wish free stuff house didnt c...       0.0  0.0     0.0   \n",
       "love love love app side fashion story fight won...       0.0  0.0     0.0   \n",
       "game rip list thing MAKE BETTERbull First NEED ...       0.0  0.0     0.0   \n",
       "\n",
       "                                                    ...  zoology  zoom  \\\n",
       "reviewText                                          ...                  \n",
       "one best apps acording bunch people agree bomb ...  ...      0.0   0.0   \n",
       "pretty good version game free LOTS different le...  ...      0.0   0.0   \n",
       "really cool game bunch level find golden egg su...  ...      0.0   0.0   \n",
       "silly game frustrating lot fun definitely recom...  ...      0.0   0.0   \n",
       "terrific game pad Hrs fun grandkids love Great ...  ...      0.0   0.0   \n",
       "...                                                 ...      ...   ...   \n",
       "app fricken stupidit froze kindle wont allow pl...  ...      0.0   0.0   \n",
       "Please add need neighbor Ginger1016 thanks bunc...  ...      0.0   0.0   \n",
       "love game awesome wish free stuff house didnt c...  ...      0.0   0.0   \n",
       "love love love app side fashion story fight won...  ...      0.0   0.0   \n",
       "game rip list thing MAKE BETTERbull First NEED ...  ...      0.0   0.0   \n",
       "\n",
       "                                                    zoomed  zooming  zpg  \\\n",
       "reviewText                                                                 \n",
       "one best apps acording bunch people agree bomb ...     0.0      0.0  0.0   \n",
       "pretty good version game free LOTS different le...     0.0      0.0  0.0   \n",
       "really cool game bunch level find golden egg su...     0.0      0.0  0.0   \n",
       "silly game frustrating lot fun definitely recom...     0.0      0.0  0.0   \n",
       "terrific game pad Hrs fun grandkids love Great ...     0.0      0.0  0.0   \n",
       "...                                                    ...      ...  ...   \n",
       "app fricken stupidit froze kindle wont allow pl...     0.0      0.0  0.0   \n",
       "Please add need neighbor Ginger1016 thanks bunc...     0.0      0.0  0.0   \n",
       "love game awesome wish free stuff house didnt c...     0.0      0.0  0.0   \n",
       "love love love app side fashion story fight won...     0.0      0.0  0.0   \n",
       "game rip list thing MAKE BETTERbull First NEED ...     0.0      0.0  0.0   \n",
       "\n",
       "                                                    zumocast   zz  zzz  zzzz  \\\n",
       "reviewText                                                                     \n",
       "one best apps acording bunch people agree bomb ...       0.0  0.0  0.0   0.0   \n",
       "pretty good version game free LOTS different le...       0.0  0.0  0.0   0.0   \n",
       "really cool game bunch level find golden egg su...       0.0  0.0  0.0   0.0   \n",
       "silly game frustrating lot fun definitely recom...       0.0  0.0  0.0   0.0   \n",
       "terrific game pad Hrs fun grandkids love Great ...       0.0  0.0  0.0   0.0   \n",
       "...                                                      ...  ...  ...   ...   \n",
       "app fricken stupidit froze kindle wont allow pl...       0.0  0.0  0.0   0.0   \n",
       "Please add need neighbor Ginger1016 thanks bunc...       0.0  0.0  0.0   0.0   \n",
       "love game awesome wish free stuff house didnt c...       0.0  0.0  0.0   0.0   \n",
       "love love love app side fashion story fight won...       0.0  0.0  0.0   0.0   \n",
       "game rip list thing MAKE BETTERbull First NEED ...       0.0  0.0  0.0   0.0   \n",
       "\n",
       "                                                    zzzzz  \n",
       "reviewText                                                 \n",
       "one best apps acording bunch people agree bomb ...    0.0  \n",
       "pretty good version game free LOTS different le...    0.0  \n",
       "really cool game bunch level find golden egg su...    0.0  \n",
       "silly game frustrating lot fun definitely recom...    0.0  \n",
       "terrific game pad Hrs fun grandkids love Great ...    0.0  \n",
       "...                                                   ...  \n",
       "app fricken stupidit froze kindle wont allow pl...    0.0  \n",
       "Please add need neighbor Ginger1016 thanks bunc...    0.0  \n",
       "love game awesome wish free stuff house didnt c...    0.0  \n",
       "love love love app side fashion story fight won...    0.0  \n",
       "game rip list thing MAKE BETTERbull First NEED ...    0.0  \n",
       "\n",
       "[20000 rows x 22609 columns]"
      ]
     },
     "execution_count": 25,
     "metadata": {},
     "output_type": "execute_result"
    }
   ],
   "source": [
    "cv_df"
   ]
  },
  {
   "cell_type": "markdown",
   "id": "e12fc885",
   "metadata": {},
   "source": [
    "### Step 6:Split the dataset into training (80%) and testing (20%) sets."
   ]
  },
  {
   "cell_type": "code",
   "execution_count": 26,
   "id": "35d73403",
   "metadata": {},
   "outputs": [],
   "source": [
    "xtrain, xtest, ytrain, ytest = train_test_split(x, y, test_size=0.2, random_state=40)"
   ]
  },
  {
   "cell_type": "code",
   "execution_count": 27,
   "id": "6475d20e",
   "metadata": {},
   "outputs": [
    {
     "data": {
      "text/plain": [
       "((16000, 22609), (16000,))"
      ]
     },
     "execution_count": 27,
     "metadata": {},
     "output_type": "execute_result"
    }
   ],
   "source": [
    "xtrain.shape, ytrain.shape"
   ]
  },
  {
   "cell_type": "code",
   "execution_count": 28,
   "id": "024aeecb",
   "metadata": {},
   "outputs": [
    {
     "data": {
      "text/plain": [
       "((4000, 22609), (4000,))"
      ]
     },
     "execution_count": 28,
     "metadata": {},
     "output_type": "execute_result"
    }
   ],
   "source": [
    "xtest.shape, ytest.shape"
   ]
  },
  {
   "cell_type": "markdown",
   "id": "27be43e3",
   "metadata": {},
   "source": [
    "### Step 7:Select at least three different machine learning models for comparison-\n",
    "- 1.Logistic Regression\n",
    "- 2.Naive Bayes\n",
    "- 3.Support Vector Machine (SVM)\n",
    "- 4.Random Forest\n"
   ]
  },
  {
   "cell_type": "markdown",
   "id": "3dec310a",
   "metadata": {},
   "source": [
    "#### 1. Apply Logistic Regression Model-"
   ]
  },
  {
   "cell_type": "markdown",
   "id": "c17a6017",
   "metadata": {},
   "source": [
    "Before applying Logistic Regression Model to my dataset, I apply hyperparameter tuning XGBoost Classifier to balance imbalanced data in my dataframe."
   ]
  },
  {
   "cell_type": "markdown",
   "id": "88d5a915",
   "metadata": {},
   "source": [
    "#### XGBoost Classifier:"
   ]
  },
  {
   "cell_type": "code",
   "execution_count": 29,
   "id": "9c054b8a",
   "metadata": {},
   "outputs": [],
   "source": [
    "import xgboost \n",
    "from xgboost import XGBClassifier"
   ]
  },
  {
   "cell_type": "code",
   "execution_count": 30,
   "id": "f4034102",
   "metadata": {},
   "outputs": [],
   "source": [
    "xgb_1 = XGBClassifier()"
   ]
  },
  {
   "cell_type": "code",
   "execution_count": 31,
   "id": "41f3d549",
   "metadata": {},
   "outputs": [],
   "source": [
    "x_1train, x_1test, y_1train, y_1test = train_test_split(x, y, test_size=0.2, random_state=40)"
   ]
  },
  {
   "cell_type": "code",
   "execution_count": 32,
   "id": "dfe980e7",
   "metadata": {},
   "outputs": [
    {
     "data": {
      "text/html": [
       "<style>#sk-container-id-1 {color: black;}#sk-container-id-1 pre{padding: 0;}#sk-container-id-1 div.sk-toggleable {background-color: white;}#sk-container-id-1 label.sk-toggleable__label {cursor: pointer;display: block;width: 100%;margin-bottom: 0;padding: 0.3em;box-sizing: border-box;text-align: center;}#sk-container-id-1 label.sk-toggleable__label-arrow:before {content: \"▸\";float: left;margin-right: 0.25em;color: #696969;}#sk-container-id-1 label.sk-toggleable__label-arrow:hover:before {color: black;}#sk-container-id-1 div.sk-estimator:hover label.sk-toggleable__label-arrow:before {color: black;}#sk-container-id-1 div.sk-toggleable__content {max-height: 0;max-width: 0;overflow: hidden;text-align: left;background-color: #f0f8ff;}#sk-container-id-1 div.sk-toggleable__content pre {margin: 0.2em;color: black;border-radius: 0.25em;background-color: #f0f8ff;}#sk-container-id-1 input.sk-toggleable__control:checked~div.sk-toggleable__content {max-height: 200px;max-width: 100%;overflow: auto;}#sk-container-id-1 input.sk-toggleable__control:checked~label.sk-toggleable__label-arrow:before {content: \"▾\";}#sk-container-id-1 div.sk-estimator input.sk-toggleable__control:checked~label.sk-toggleable__label {background-color: #d4ebff;}#sk-container-id-1 div.sk-label input.sk-toggleable__control:checked~label.sk-toggleable__label {background-color: #d4ebff;}#sk-container-id-1 input.sk-hidden--visually {border: 0;clip: rect(1px 1px 1px 1px);clip: rect(1px, 1px, 1px, 1px);height: 1px;margin: -1px;overflow: hidden;padding: 0;position: absolute;width: 1px;}#sk-container-id-1 div.sk-estimator {font-family: monospace;background-color: #f0f8ff;border: 1px dotted black;border-radius: 0.25em;box-sizing: border-box;margin-bottom: 0.5em;}#sk-container-id-1 div.sk-estimator:hover {background-color: #d4ebff;}#sk-container-id-1 div.sk-parallel-item::after {content: \"\";width: 100%;border-bottom: 1px solid gray;flex-grow: 1;}#sk-container-id-1 div.sk-label:hover label.sk-toggleable__label {background-color: #d4ebff;}#sk-container-id-1 div.sk-serial::before {content: \"\";position: absolute;border-left: 1px solid gray;box-sizing: border-box;top: 0;bottom: 0;left: 50%;z-index: 0;}#sk-container-id-1 div.sk-serial {display: flex;flex-direction: column;align-items: center;background-color: white;padding-right: 0.2em;padding-left: 0.2em;position: relative;}#sk-container-id-1 div.sk-item {position: relative;z-index: 1;}#sk-container-id-1 div.sk-parallel {display: flex;align-items: stretch;justify-content: center;background-color: white;position: relative;}#sk-container-id-1 div.sk-item::before, #sk-container-id-1 div.sk-parallel-item::before {content: \"\";position: absolute;border-left: 1px solid gray;box-sizing: border-box;top: 0;bottom: 0;left: 50%;z-index: -1;}#sk-container-id-1 div.sk-parallel-item {display: flex;flex-direction: column;z-index: 1;position: relative;background-color: white;}#sk-container-id-1 div.sk-parallel-item:first-child::after {align-self: flex-end;width: 50%;}#sk-container-id-1 div.sk-parallel-item:last-child::after {align-self: flex-start;width: 50%;}#sk-container-id-1 div.sk-parallel-item:only-child::after {width: 0;}#sk-container-id-1 div.sk-dashed-wrapped {border: 1px dashed gray;margin: 0 0.4em 0.5em 0.4em;box-sizing: border-box;padding-bottom: 0.4em;background-color: white;}#sk-container-id-1 div.sk-label label {font-family: monospace;font-weight: bold;display: inline-block;line-height: 1.2em;}#sk-container-id-1 div.sk-label-container {text-align: center;}#sk-container-id-1 div.sk-container {/* jupyter's `normalize.less` sets `[hidden] { display: none; }` but bootstrap.min.css set `[hidden] { display: none !important; }` so we also need the `!important` here to be able to override the default hidden behavior on the sphinx rendered scikit-learn.org. See: https://github.com/scikit-learn/scikit-learn/issues/21755 */display: inline-block !important;position: relative;}#sk-container-id-1 div.sk-text-repr-fallback {display: none;}</style><div id=\"sk-container-id-1\" class=\"sk-top-container\"><div class=\"sk-text-repr-fallback\"><pre>XGBClassifier(base_score=None, booster=None, callbacks=None,\n",
       "              colsample_bylevel=None, colsample_bynode=None,\n",
       "              colsample_bytree=None, device=None, early_stopping_rounds=None,\n",
       "              enable_categorical=False, eval_metric=None, feature_types=None,\n",
       "              gamma=None, grow_policy=None, importance_type=None,\n",
       "              interaction_constraints=None, learning_rate=None, max_bin=None,\n",
       "              max_cat_threshold=None, max_cat_to_onehot=None,\n",
       "              max_delta_step=None, max_depth=None, max_leaves=None,\n",
       "              min_child_weight=None, missing=nan, monotone_constraints=None,\n",
       "              multi_strategy=None, n_estimators=None, n_jobs=None,\n",
       "              num_parallel_tree=None, random_state=None, ...)</pre><b>In a Jupyter environment, please rerun this cell to show the HTML representation or trust the notebook. <br />On GitHub, the HTML representation is unable to render, please try loading this page with nbviewer.org.</b></div><div class=\"sk-container\" hidden><div class=\"sk-item\"><div class=\"sk-estimator sk-toggleable\"><input class=\"sk-toggleable__control sk-hidden--visually\" id=\"sk-estimator-id-1\" type=\"checkbox\" checked><label for=\"sk-estimator-id-1\" class=\"sk-toggleable__label sk-toggleable__label-arrow\">XGBClassifier</label><div class=\"sk-toggleable__content\"><pre>XGBClassifier(base_score=None, booster=None, callbacks=None,\n",
       "              colsample_bylevel=None, colsample_bynode=None,\n",
       "              colsample_bytree=None, device=None, early_stopping_rounds=None,\n",
       "              enable_categorical=False, eval_metric=None, feature_types=None,\n",
       "              gamma=None, grow_policy=None, importance_type=None,\n",
       "              interaction_constraints=None, learning_rate=None, max_bin=None,\n",
       "              max_cat_threshold=None, max_cat_to_onehot=None,\n",
       "              max_delta_step=None, max_depth=None, max_leaves=None,\n",
       "              min_child_weight=None, missing=nan, monotone_constraints=None,\n",
       "              multi_strategy=None, n_estimators=None, n_jobs=None,\n",
       "              num_parallel_tree=None, random_state=None, ...)</pre></div></div></div></div></div>"
      ],
      "text/plain": [
       "XGBClassifier(base_score=None, booster=None, callbacks=None,\n",
       "              colsample_bylevel=None, colsample_bynode=None,\n",
       "              colsample_bytree=None, device=None, early_stopping_rounds=None,\n",
       "              enable_categorical=False, eval_metric=None, feature_types=None,\n",
       "              gamma=None, grow_policy=None, importance_type=None,\n",
       "              interaction_constraints=None, learning_rate=None, max_bin=None,\n",
       "              max_cat_threshold=None, max_cat_to_onehot=None,\n",
       "              max_delta_step=None, max_depth=None, max_leaves=None,\n",
       "              min_child_weight=None, missing=nan, monotone_constraints=None,\n",
       "              multi_strategy=None, n_estimators=None, n_jobs=None,\n",
       "              num_parallel_tree=None, random_state=None, ...)"
      ]
     },
     "execution_count": 32,
     "metadata": {},
     "output_type": "execute_result"
    }
   ],
   "source": [
    "xgb_1.fit(x_1train, y_1train) "
   ]
  },
  {
   "cell_type": "markdown",
   "id": "ee2900df",
   "metadata": {},
   "source": [
    "#### Logistic Regression Model-"
   ]
  },
  {
   "cell_type": "code",
   "execution_count": 33,
   "id": "53c32930",
   "metadata": {},
   "outputs": [],
   "source": [
    "from sklearn.linear_model import LogisticRegression"
   ]
  },
  {
   "cell_type": "code",
   "execution_count": 34,
   "id": "f7b618b4",
   "metadata": {},
   "outputs": [
    {
     "data": {
      "text/html": [
       "<style>#sk-container-id-2 {color: black;}#sk-container-id-2 pre{padding: 0;}#sk-container-id-2 div.sk-toggleable {background-color: white;}#sk-container-id-2 label.sk-toggleable__label {cursor: pointer;display: block;width: 100%;margin-bottom: 0;padding: 0.3em;box-sizing: border-box;text-align: center;}#sk-container-id-2 label.sk-toggleable__label-arrow:before {content: \"▸\";float: left;margin-right: 0.25em;color: #696969;}#sk-container-id-2 label.sk-toggleable__label-arrow:hover:before {color: black;}#sk-container-id-2 div.sk-estimator:hover label.sk-toggleable__label-arrow:before {color: black;}#sk-container-id-2 div.sk-toggleable__content {max-height: 0;max-width: 0;overflow: hidden;text-align: left;background-color: #f0f8ff;}#sk-container-id-2 div.sk-toggleable__content pre {margin: 0.2em;color: black;border-radius: 0.25em;background-color: #f0f8ff;}#sk-container-id-2 input.sk-toggleable__control:checked~div.sk-toggleable__content {max-height: 200px;max-width: 100%;overflow: auto;}#sk-container-id-2 input.sk-toggleable__control:checked~label.sk-toggleable__label-arrow:before {content: \"▾\";}#sk-container-id-2 div.sk-estimator input.sk-toggleable__control:checked~label.sk-toggleable__label {background-color: #d4ebff;}#sk-container-id-2 div.sk-label input.sk-toggleable__control:checked~label.sk-toggleable__label {background-color: #d4ebff;}#sk-container-id-2 input.sk-hidden--visually {border: 0;clip: rect(1px 1px 1px 1px);clip: rect(1px, 1px, 1px, 1px);height: 1px;margin: -1px;overflow: hidden;padding: 0;position: absolute;width: 1px;}#sk-container-id-2 div.sk-estimator {font-family: monospace;background-color: #f0f8ff;border: 1px dotted black;border-radius: 0.25em;box-sizing: border-box;margin-bottom: 0.5em;}#sk-container-id-2 div.sk-estimator:hover {background-color: #d4ebff;}#sk-container-id-2 div.sk-parallel-item::after {content: \"\";width: 100%;border-bottom: 1px solid gray;flex-grow: 1;}#sk-container-id-2 div.sk-label:hover label.sk-toggleable__label {background-color: #d4ebff;}#sk-container-id-2 div.sk-serial::before {content: \"\";position: absolute;border-left: 1px solid gray;box-sizing: border-box;top: 0;bottom: 0;left: 50%;z-index: 0;}#sk-container-id-2 div.sk-serial {display: flex;flex-direction: column;align-items: center;background-color: white;padding-right: 0.2em;padding-left: 0.2em;position: relative;}#sk-container-id-2 div.sk-item {position: relative;z-index: 1;}#sk-container-id-2 div.sk-parallel {display: flex;align-items: stretch;justify-content: center;background-color: white;position: relative;}#sk-container-id-2 div.sk-item::before, #sk-container-id-2 div.sk-parallel-item::before {content: \"\";position: absolute;border-left: 1px solid gray;box-sizing: border-box;top: 0;bottom: 0;left: 50%;z-index: -1;}#sk-container-id-2 div.sk-parallel-item {display: flex;flex-direction: column;z-index: 1;position: relative;background-color: white;}#sk-container-id-2 div.sk-parallel-item:first-child::after {align-self: flex-end;width: 50%;}#sk-container-id-2 div.sk-parallel-item:last-child::after {align-self: flex-start;width: 50%;}#sk-container-id-2 div.sk-parallel-item:only-child::after {width: 0;}#sk-container-id-2 div.sk-dashed-wrapped {border: 1px dashed gray;margin: 0 0.4em 0.5em 0.4em;box-sizing: border-box;padding-bottom: 0.4em;background-color: white;}#sk-container-id-2 div.sk-label label {font-family: monospace;font-weight: bold;display: inline-block;line-height: 1.2em;}#sk-container-id-2 div.sk-label-container {text-align: center;}#sk-container-id-2 div.sk-container {/* jupyter's `normalize.less` sets `[hidden] { display: none; }` but bootstrap.min.css set `[hidden] { display: none !important; }` so we also need the `!important` here to be able to override the default hidden behavior on the sphinx rendered scikit-learn.org. See: https://github.com/scikit-learn/scikit-learn/issues/21755 */display: inline-block !important;position: relative;}#sk-container-id-2 div.sk-text-repr-fallback {display: none;}</style><div id=\"sk-container-id-2\" class=\"sk-top-container\"><div class=\"sk-text-repr-fallback\"><pre>LogisticRegression()</pre><b>In a Jupyter environment, please rerun this cell to show the HTML representation or trust the notebook. <br />On GitHub, the HTML representation is unable to render, please try loading this page with nbviewer.org.</b></div><div class=\"sk-container\" hidden><div class=\"sk-item\"><div class=\"sk-estimator sk-toggleable\"><input class=\"sk-toggleable__control sk-hidden--visually\" id=\"sk-estimator-id-2\" type=\"checkbox\" checked><label for=\"sk-estimator-id-2\" class=\"sk-toggleable__label sk-toggleable__label-arrow\">LogisticRegression</label><div class=\"sk-toggleable__content\"><pre>LogisticRegression()</pre></div></div></div></div></div>"
      ],
      "text/plain": [
       "LogisticRegression()"
      ]
     },
     "execution_count": 34,
     "metadata": {},
     "output_type": "execute_result"
    }
   ],
   "source": [
    "#from sklearn.linear_model import LogisticRegression\n",
    "L_reg = LogisticRegression().fit(x_1train,y_1train)\n",
    "L_reg"
   ]
  },
  {
   "cell_type": "code",
   "execution_count": 35,
   "id": "b0ee039b",
   "metadata": {},
   "outputs": [
    {
     "data": {
      "text/plain": [
       "array([[-0.15486826, -0.24559891,  0.14639173, ...,  0.02990808,\n",
       "         0.184685  ,  0.184685  ]])"
      ]
     },
     "execution_count": 35,
     "metadata": {},
     "output_type": "execute_result"
    }
   ],
   "source": [
    "L_reg.coef_"
   ]
  },
  {
   "cell_type": "code",
   "execution_count": 36,
   "id": "7a151545",
   "metadata": {},
   "outputs": [
    {
     "data": {
      "text/plain": [
       "array([0.71169583])"
      ]
     },
     "execution_count": 36,
     "metadata": {},
     "output_type": "execute_result"
    }
   ],
   "source": [
    "L_reg.intercept_"
   ]
  },
  {
   "cell_type": "code",
   "execution_count": 37,
   "id": "3ac6040c",
   "metadata": {},
   "outputs": [
    {
     "data": {
      "text/plain": [
       "array([1, 1, 1, ..., 1, 1, 1], dtype=int64)"
      ]
     },
     "execution_count": 37,
     "metadata": {},
     "output_type": "execute_result"
    }
   ],
   "source": [
    "L_reg.predict(x_1test)"
   ]
  },
  {
   "cell_type": "code",
   "execution_count": 38,
   "id": "b15b4bf1",
   "metadata": {},
   "outputs": [
    {
     "data": {
      "text/plain": [
       "array([1, 1, 1, ..., 1, 1, 1], dtype=int64)"
      ]
     },
     "execution_count": 38,
     "metadata": {},
     "output_type": "execute_result"
    }
   ],
   "source": [
    "np.array(y_1test)"
   ]
  },
  {
   "cell_type": "markdown",
   "id": "2d0f42d7",
   "metadata": {},
   "source": [
    "#### Evaluate Logistic Regression Model-"
   ]
  },
  {
   "cell_type": "code",
   "execution_count": 39,
   "id": "b70adf41",
   "metadata": {},
   "outputs": [],
   "source": [
    "from sklearn.metrics import classification_report, accuracy_score, precision_score\n",
    "from sklearn.metrics import recall_score, f1_score, confusion_matrix,RocCurveDisplay\n",
    "from termcolor import colored"
   ]
  },
  {
   "cell_type": "code",
   "execution_count": 40,
   "id": "c59be29e",
   "metadata": {},
   "outputs": [
    {
     "name": "stdout",
     "output_type": "stream",
     "text": [
      "\u001b[2m\u001b[1m\u001b[34mModel Evaluation:\n",
      "\u001b[0m\n",
      "\u001b[95mtrain_accuracy : 0.92\u001b[0m\n",
      "\u001b[95mtest_accuracy : 0.89\u001b[0m\n",
      "\u001b[95maccuracy_score : 0.89\u001b[0m\n",
      "\u001b[95mprecision_score : 0.9\u001b[0m\n",
      "\u001b[95mrecall_score : 0.97\u001b[0m\n",
      "\u001b[95mf1_score : 0.93\u001b[0m\n",
      "\u001b[93m\n",
      "confusion_matrix :\n",
      " [[ 606  326]\n",
      " [ 107 2961]]\u001b[0m\n"
     ]
    }
   ],
   "source": [
    "train_accuracy_1 = L_reg.score(x_1train,y_1train)\n",
    "test_accuracy_1 = L_reg.score(x_1test, y_1test)\n",
    "accuracy_score_1 = accuracy_score(y_1test, L_reg.predict(x_1test))\n",
    "precision_score_1 = precision_score(y_1test, L_reg.predict(x_1test))\n",
    "recall_score_1 = recall_score(y_1test, L_reg.predict(x_1test))\n",
    "f1_score_1 = f1_score(y_1test, L_reg.predict(x_1test))\n",
    "cm_1 = confusion_matrix(y_1test, L_reg.predict(x_1test))\n",
    "\n",
    "print(colored('Model Evaluation:\\n',color = 'blue', attrs = ['bold','dark']))\n",
    "print(colored(f'train_accuracy : {round(train_accuracy_1,2)}',color='light_magenta'))\n",
    "print(colored(f'test_accuracy : {round(test_accuracy_1,2)}',color='light_magenta'))\n",
    "print(colored(f'accuracy_score : {round(accuracy_score_1,2)}',color='light_magenta'))\n",
    "print(colored(f'precision_score : {round(precision_score_1,2)}',color='light_magenta'))\n",
    "print(colored(f'recall_score : {round(recall_score_1,2)}',color='light_magenta'))\n",
    "print(colored(f'f1_score : {round(f1_score_1,2)}',color='light_magenta'))\n",
    "print(colored(f'\\nconfusion_matrix :\\n {cm_1}',color='light_yellow'))"
   ]
  },
  {
   "cell_type": "markdown",
   "id": "2565aefb",
   "metadata": {},
   "source": [
    "##### Heatmap:"
   ]
  },
  {
   "cell_type": "code",
   "execution_count": 41,
   "id": "ee432562",
   "metadata": {},
   "outputs": [
    {
     "data": {
      "text/plain": [
       "<Axes: >"
      ]
     },
     "execution_count": 41,
     "metadata": {},
     "output_type": "execute_result"
    },
    {
     "data": {
      "image/png": "[encoded data removed]",
      "text/plain": [
       "<Figure size 640x480 with 2 Axes>"
      ]
     },
     "metadata": {},
     "output_type": "display_data"
    }
   ],
   "source": [
    "sns.heatmap(cm_1, annot=True)"
   ]
  },
  {
   "cell_type": "markdown",
   "id": "17897d60",
   "metadata": {},
   "source": [
    "##### RocCurve visualization:"
   ]
  },
  {
   "cell_type": "code",
   "execution_count": 42,
   "id": "ecb36b93",
   "metadata": {},
   "outputs": [
    {
     "data": {
      "image/png": "[encoded data removed]",
      "text/plain": [
       "<Figure size 640x480 with 1 Axes>"
      ]
     },
     "metadata": {},
     "output_type": "display_data"
    }
   ],
   "source": [
    "RocCurveDisplay.from_predictions(y_1test, L_reg.predict(x_1test))\n",
    "#plt.plot([0,1],[0,1])\n",
    "plt.show()"
   ]
  },
  {
   "cell_type": "code",
   "execution_count": 43,
   "id": "e68c509a",
   "metadata": {},
   "outputs": [
    {
     "data": {
      "image/png": "[encoded data removed]",
      "text/plain": [
       "<Figure size 640x480 with 1 Axes>"
      ]
     },
     "metadata": {},
     "output_type": "display_data"
    }
   ],
   "source": [
    "RocCurveDisplay.from_predictions(y_1test, L_reg.predict(x_1test))\n",
    "plt.plot([0,1],[0,1])\n",
    "plt.show()"
   ]
  },
  {
   "cell_type": "markdown",
   "id": "6e24046b",
   "metadata": {},
   "source": [
    "### 2. Apply Naive Bayes Model-"
   ]
  },
  {
   "cell_type": "markdown",
   "id": "07cb79d2",
   "metadata": {},
   "source": [
    "Before applying Naive Bayes Model to my dataset, I apply hyperparameter tuning XGBoost Classifier to balance imbalanced data in my dataframe."
   ]
  },
  {
   "cell_type": "markdown",
   "id": "ff0f36b7",
   "metadata": {},
   "source": [
    "#### XGBoost Classifier:"
   ]
  },
  {
   "cell_type": "code",
   "execution_count": 44,
   "id": "b2f8dd6b",
   "metadata": {},
   "outputs": [],
   "source": [
    "xgb_2 = XGBClassifier()"
   ]
  },
  {
   "cell_type": "code",
   "execution_count": 45,
   "id": "6466ff4b",
   "metadata": {},
   "outputs": [],
   "source": [
    "x_2train, x_2test, y_2train, y_2test = train_test_split(x, y, test_size=0.2, random_state=45)"
   ]
  },
  {
   "cell_type": "code",
   "execution_count": 46,
   "id": "007c6164",
   "metadata": {},
   "outputs": [
    {
     "data": {
      "text/html": [
       "<style>#sk-container-id-3 {color: black;}#sk-container-id-3 pre{padding: 0;}#sk-container-id-3 div.sk-toggleable {background-color: white;}#sk-container-id-3 label.sk-toggleable__label {cursor: pointer;display: block;width: 100%;margin-bottom: 0;padding: 0.3em;box-sizing: border-box;text-align: center;}#sk-container-id-3 label.sk-toggleable__label-arrow:before {content: \"▸\";float: left;margin-right: 0.25em;color: #696969;}#sk-container-id-3 label.sk-toggleable__label-arrow:hover:before {color: black;}#sk-container-id-3 div.sk-estimator:hover label.sk-toggleable__label-arrow:before {color: black;}#sk-container-id-3 div.sk-toggleable__content {max-height: 0;max-width: 0;overflow: hidden;text-align: left;background-color: #f0f8ff;}#sk-container-id-3 div.sk-toggleable__content pre {margin: 0.2em;color: black;border-radius: 0.25em;background-color: #f0f8ff;}#sk-container-id-3 input.sk-toggleable__control:checked~div.sk-toggleable__content {max-height: 200px;max-width: 100%;overflow: auto;}#sk-container-id-3 input.sk-toggleable__control:checked~label.sk-toggleable__label-arrow:before {content: \"▾\";}#sk-container-id-3 div.sk-estimator input.sk-toggleable__control:checked~label.sk-toggleable__label {background-color: #d4ebff;}#sk-container-id-3 div.sk-label input.sk-toggleable__control:checked~label.sk-toggleable__label {background-color: #d4ebff;}#sk-container-id-3 input.sk-hidden--visually {border: 0;clip: rect(1px 1px 1px 1px);clip: rect(1px, 1px, 1px, 1px);height: 1px;margin: -1px;overflow: hidden;padding: 0;position: absolute;width: 1px;}#sk-container-id-3 div.sk-estimator {font-family: monospace;background-color: #f0f8ff;border: 1px dotted black;border-radius: 0.25em;box-sizing: border-box;margin-bottom: 0.5em;}#sk-container-id-3 div.sk-estimator:hover {background-color: #d4ebff;}#sk-container-id-3 div.sk-parallel-item::after {content: \"\";width: 100%;border-bottom: 1px solid gray;flex-grow: 1;}#sk-container-id-3 div.sk-label:hover label.sk-toggleable__label {background-color: #d4ebff;}#sk-container-id-3 div.sk-serial::before {content: \"\";position: absolute;border-left: 1px solid gray;box-sizing: border-box;top: 0;bottom: 0;left: 50%;z-index: 0;}#sk-container-id-3 div.sk-serial {display: flex;flex-direction: column;align-items: center;background-color: white;padding-right: 0.2em;padding-left: 0.2em;position: relative;}#sk-container-id-3 div.sk-item {position: relative;z-index: 1;}#sk-container-id-3 div.sk-parallel {display: flex;align-items: stretch;justify-content: center;background-color: white;position: relative;}#sk-container-id-3 div.sk-item::before, #sk-container-id-3 div.sk-parallel-item::before {content: \"\";position: absolute;border-left: 1px solid gray;box-sizing: border-box;top: 0;bottom: 0;left: 50%;z-index: -1;}#sk-container-id-3 div.sk-parallel-item {display: flex;flex-direction: column;z-index: 1;position: relative;background-color: white;}#sk-container-id-3 div.sk-parallel-item:first-child::after {align-self: flex-end;width: 50%;}#sk-container-id-3 div.sk-parallel-item:last-child::after {align-self: flex-start;width: 50%;}#sk-container-id-3 div.sk-parallel-item:only-child::after {width: 0;}#sk-container-id-3 div.sk-dashed-wrapped {border: 1px dashed gray;margin: 0 0.4em 0.5em 0.4em;box-sizing: border-box;padding-bottom: 0.4em;background-color: white;}#sk-container-id-3 div.sk-label label {font-family: monospace;font-weight: bold;display: inline-block;line-height: 1.2em;}#sk-container-id-3 div.sk-label-container {text-align: center;}#sk-container-id-3 div.sk-container {/* jupyter's `normalize.less` sets `[hidden] { display: none; }` but bootstrap.min.css set `[hidden] { display: none !important; }` so we also need the `!important` here to be able to override the default hidden behavior on the sphinx rendered scikit-learn.org. See: https://github.com/scikit-learn/scikit-learn/issues/21755 */display: inline-block !important;position: relative;}#sk-container-id-3 div.sk-text-repr-fallback {display: none;}</style><div id=\"sk-container-id-3\" class=\"sk-top-container\"><div class=\"sk-text-repr-fallback\"><pre>XGBClassifier(base_score=None, booster=None, callbacks=None,\n",
       "              colsample_bylevel=None, colsample_bynode=None,\n",
       "              colsample_bytree=None, device=None, early_stopping_rounds=None,\n",
       "              enable_categorical=False, eval_metric=None, feature_types=None,\n",
       "              gamma=None, grow_policy=None, importance_type=None,\n",
       "              interaction_constraints=None, learning_rate=None, max_bin=None,\n",
       "              max_cat_threshold=None, max_cat_to_onehot=None,\n",
       "              max_delta_step=None, max_depth=None, max_leaves=None,\n",
       "              min_child_weight=None, missing=nan, monotone_constraints=None,\n",
       "              multi_strategy=None, n_estimators=None, n_jobs=None,\n",
       "              num_parallel_tree=None, random_state=None, ...)</pre><b>In a Jupyter environment, please rerun this cell to show the HTML representation or trust the notebook. <br />On GitHub, the HTML representation is unable to render, please try loading this page with nbviewer.org.</b></div><div class=\"sk-container\" hidden><div class=\"sk-item\"><div class=\"sk-estimator sk-toggleable\"><input class=\"sk-toggleable__control sk-hidden--visually\" id=\"sk-estimator-id-3\" type=\"checkbox\" checked><label for=\"sk-estimator-id-3\" class=\"sk-toggleable__label sk-toggleable__label-arrow\">XGBClassifier</label><div class=\"sk-toggleable__content\"><pre>XGBClassifier(base_score=None, booster=None, callbacks=None,\n",
       "              colsample_bylevel=None, colsample_bynode=None,\n",
       "              colsample_bytree=None, device=None, early_stopping_rounds=None,\n",
       "              enable_categorical=False, eval_metric=None, feature_types=None,\n",
       "              gamma=None, grow_policy=None, importance_type=None,\n",
       "              interaction_constraints=None, learning_rate=None, max_bin=None,\n",
       "              max_cat_threshold=None, max_cat_to_onehot=None,\n",
       "              max_delta_step=None, max_depth=None, max_leaves=None,\n",
       "              min_child_weight=None, missing=nan, monotone_constraints=None,\n",
       "              multi_strategy=None, n_estimators=None, n_jobs=None,\n",
       "              num_parallel_tree=None, random_state=None, ...)</pre></div></div></div></div></div>"
      ],
      "text/plain": [
       "XGBClassifier(base_score=None, booster=None, callbacks=None,\n",
       "              colsample_bylevel=None, colsample_bynode=None,\n",
       "              colsample_bytree=None, device=None, early_stopping_rounds=None,\n",
       "              enable_categorical=False, eval_metric=None, feature_types=None,\n",
       "              gamma=None, grow_policy=None, importance_type=None,\n",
       "              interaction_constraints=None, learning_rate=None, max_bin=None,\n",
       "              max_cat_threshold=None, max_cat_to_onehot=None,\n",
       "              max_delta_step=None, max_depth=None, max_leaves=None,\n",
       "              min_child_weight=None, missing=nan, monotone_constraints=None,\n",
       "              multi_strategy=None, n_estimators=None, n_jobs=None,\n",
       "              num_parallel_tree=None, random_state=None, ...)"
      ]
     },
     "execution_count": 46,
     "metadata": {},
     "output_type": "execute_result"
    }
   ],
   "source": [
    "xgb_2.fit(x_2train, y_2train) "
   ]
  },
  {
   "cell_type": "markdown",
   "id": "26957f86",
   "metadata": {},
   "source": [
    "#### Multinomial Naive Bayes Model-"
   ]
  },
  {
   "cell_type": "code",
   "execution_count": 47,
   "id": "be6ec883",
   "metadata": {},
   "outputs": [
    {
     "data": {
      "text/html": [
       "<style>#sk-container-id-4 {color: black;}#sk-container-id-4 pre{padding: 0;}#sk-container-id-4 div.sk-toggleable {background-color: white;}#sk-container-id-4 label.sk-toggleable__label {cursor: pointer;display: block;width: 100%;margin-bottom: 0;padding: 0.3em;box-sizing: border-box;text-align: center;}#sk-container-id-4 label.sk-toggleable__label-arrow:before {content: \"▸\";float: left;margin-right: 0.25em;color: #696969;}#sk-container-id-4 label.sk-toggleable__label-arrow:hover:before {color: black;}#sk-container-id-4 div.sk-estimator:hover label.sk-toggleable__label-arrow:before {color: black;}#sk-container-id-4 div.sk-toggleable__content {max-height: 0;max-width: 0;overflow: hidden;text-align: left;background-color: #f0f8ff;}#sk-container-id-4 div.sk-toggleable__content pre {margin: 0.2em;color: black;border-radius: 0.25em;background-color: #f0f8ff;}#sk-container-id-4 input.sk-toggleable__control:checked~div.sk-toggleable__content {max-height: 200px;max-width: 100%;overflow: auto;}#sk-container-id-4 input.sk-toggleable__control:checked~label.sk-toggleable__label-arrow:before {content: \"▾\";}#sk-container-id-4 div.sk-estimator input.sk-toggleable__control:checked~label.sk-toggleable__label {background-color: #d4ebff;}#sk-container-id-4 div.sk-label input.sk-toggleable__control:checked~label.sk-toggleable__label {background-color: #d4ebff;}#sk-container-id-4 input.sk-hidden--visually {border: 0;clip: rect(1px 1px 1px 1px);clip: rect(1px, 1px, 1px, 1px);height: 1px;margin: -1px;overflow: hidden;padding: 0;position: absolute;width: 1px;}#sk-container-id-4 div.sk-estimator {font-family: monospace;background-color: #f0f8ff;border: 1px dotted black;border-radius: 0.25em;box-sizing: border-box;margin-bottom: 0.5em;}#sk-container-id-4 div.sk-estimator:hover {background-color: #d4ebff;}#sk-container-id-4 div.sk-parallel-item::after {content: \"\";width: 100%;border-bottom: 1px solid gray;flex-grow: 1;}#sk-container-id-4 div.sk-label:hover label.sk-toggleable__label {background-color: #d4ebff;}#sk-container-id-4 div.sk-serial::before {content: \"\";position: absolute;border-left: 1px solid gray;box-sizing: border-box;top: 0;bottom: 0;left: 50%;z-index: 0;}#sk-container-id-4 div.sk-serial {display: flex;flex-direction: column;align-items: center;background-color: white;padding-right: 0.2em;padding-left: 0.2em;position: relative;}#sk-container-id-4 div.sk-item {position: relative;z-index: 1;}#sk-container-id-4 div.sk-parallel {display: flex;align-items: stretch;justify-content: center;background-color: white;position: relative;}#sk-container-id-4 div.sk-item::before, #sk-container-id-4 div.sk-parallel-item::before {content: \"\";position: absolute;border-left: 1px solid gray;box-sizing: border-box;top: 0;bottom: 0;left: 50%;z-index: -1;}#sk-container-id-4 div.sk-parallel-item {display: flex;flex-direction: column;z-index: 1;position: relative;background-color: white;}#sk-container-id-4 div.sk-parallel-item:first-child::after {align-self: flex-end;width: 50%;}#sk-container-id-4 div.sk-parallel-item:last-child::after {align-self: flex-start;width: 50%;}#sk-container-id-4 div.sk-parallel-item:only-child::after {width: 0;}#sk-container-id-4 div.sk-dashed-wrapped {border: 1px dashed gray;margin: 0 0.4em 0.5em 0.4em;box-sizing: border-box;padding-bottom: 0.4em;background-color: white;}#sk-container-id-4 div.sk-label label {font-family: monospace;font-weight: bold;display: inline-block;line-height: 1.2em;}#sk-container-id-4 div.sk-label-container {text-align: center;}#sk-container-id-4 div.sk-container {/* jupyter's `normalize.less` sets `[hidden] { display: none; }` but bootstrap.min.css set `[hidden] { display: none !important; }` so we also need the `!important` here to be able to override the default hidden behavior on the sphinx rendered scikit-learn.org. See: https://github.com/scikit-learn/scikit-learn/issues/21755 */display: inline-block !important;position: relative;}#sk-container-id-4 div.sk-text-repr-fallback {display: none;}</style><div id=\"sk-container-id-4\" class=\"sk-top-container\"><div class=\"sk-text-repr-fallback\"><pre>MultinomialNB()</pre><b>In a Jupyter environment, please rerun this cell to show the HTML representation or trust the notebook. <br />On GitHub, the HTML representation is unable to render, please try loading this page with nbviewer.org.</b></div><div class=\"sk-container\" hidden><div class=\"sk-item\"><div class=\"sk-estimator sk-toggleable\"><input class=\"sk-toggleable__control sk-hidden--visually\" id=\"sk-estimator-id-4\" type=\"checkbox\" checked><label for=\"sk-estimator-id-4\" class=\"sk-toggleable__label sk-toggleable__label-arrow\">MultinomialNB</label><div class=\"sk-toggleable__content\"><pre>MultinomialNB()</pre></div></div></div></div></div>"
      ],
      "text/plain": [
       "MultinomialNB()"
      ]
     },
     "execution_count": 47,
     "metadata": {},
     "output_type": "execute_result"
    }
   ],
   "source": [
    "#Here, I apply Multinomial Naive Bayes Model for prediction.\n",
    "\n",
    "MNB_model = MultinomialNB()\n",
    "MNB_model.fit(x_2train, y_2train)"
   ]
  },
  {
   "cell_type": "code",
   "execution_count": 48,
   "id": "c356bc51",
   "metadata": {},
   "outputs": [
    {
     "data": {
      "text/plain": [
       "array([1, 1, 1, ..., 1, 1, 1], dtype=int64)"
      ]
     },
     "execution_count": 48,
     "metadata": {},
     "output_type": "execute_result"
    }
   ],
   "source": [
    "MNB_model.predict(x_2test)"
   ]
  },
  {
   "cell_type": "code",
   "execution_count": 49,
   "id": "f3776b4c",
   "metadata": {},
   "outputs": [
    {
     "data": {
      "text/plain": [
       "array([1, 1, 1, ..., 1, 1, 1], dtype=int64)"
      ]
     },
     "execution_count": 49,
     "metadata": {},
     "output_type": "execute_result"
    }
   ],
   "source": [
    "np.array(y_2test)"
   ]
  },
  {
   "cell_type": "markdown",
   "id": "eb4ac44b",
   "metadata": {},
   "source": [
    "#### Evaluate Multinomial Naive Bayes Model-"
   ]
  },
  {
   "cell_type": "code",
   "execution_count": 50,
   "id": "d76360bf",
   "metadata": {},
   "outputs": [
    {
     "data": {
      "text/plain": [
       "((16000, 22609), (16000,))"
      ]
     },
     "execution_count": 50,
     "metadata": {},
     "output_type": "execute_result"
    }
   ],
   "source": [
    "x_2train.shape,y_2train.shape"
   ]
  },
  {
   "cell_type": "code",
   "execution_count": 51,
   "id": "4bdd3827",
   "metadata": {},
   "outputs": [
    {
     "data": {
      "text/plain": [
       "((4000, 22609), (4000,))"
      ]
     },
     "execution_count": 51,
     "metadata": {},
     "output_type": "execute_result"
    }
   ],
   "source": [
    "x_2test.shape,y_2test.shape"
   ]
  },
  {
   "cell_type": "code",
   "execution_count": 52,
   "id": "343de7c1",
   "metadata": {},
   "outputs": [],
   "source": [
    "from sklearn.metrics import classification_report, accuracy_score, precision_score\n",
    "from sklearn.metrics import recall_score, f1_score, confusion_matrix,RocCurveDisplay"
   ]
  },
  {
   "cell_type": "code",
   "execution_count": 53,
   "id": "11dfbc13",
   "metadata": {},
   "outputs": [
    {
     "name": "stdout",
     "output_type": "stream",
     "text": [
      "\u001b[2m\u001b[1m\u001b[34mModel Evaluation:\n",
      "\u001b[0m\n",
      "\u001b[95mtrain_accuracy_2 : 0.82\u001b[0m\n",
      "\u001b[95mtest_accuracy_2 : 0.79\u001b[0m\n",
      "\u001b[95maccuracy_score_2 : 0.79\u001b[0m\n",
      "\u001b[95mprecision_score_2 : 0.78\u001b[0m\n",
      "\u001b[95mrecall_score_2 : 1.0\u001b[0m\n",
      "\u001b[95mf1_score_2 : 0.88\u001b[0m\n",
      "\u001b[93m\n",
      "confusion_matrix_2 :\n",
      " [[ 128  832]\n",
      " [   9 3031]]\u001b[0m\n"
     ]
    }
   ],
   "source": [
    "train_accuracy_2 = MNB_model.score(x_2train,y_2train)\n",
    "test_accuracy_2 = MNB_model.score(x_2test, y_2test)\n",
    "accuracy_score_2 = accuracy_score(y_2test, MNB_model.predict(x_2test))\n",
    "precision_score_2 = precision_score(y_2test, MNB_model.predict(x_2test))\n",
    "recall_score_2 = recall_score(y_2test, MNB_model.predict(x_2test))\n",
    "f1_score_2 = f1_score(y_2test, MNB_model.predict(x_2test))\n",
    "cm_2 = confusion_matrix(y_2test, MNB_model.predict(x_2test))\n",
    "\n",
    "print(colored('Model Evaluation:\\n',color = 'blue', attrs = ['bold','dark']))\n",
    "print(colored(f'train_accuracy_2 : {round(train_accuracy_2,2)}',color='light_magenta'))\n",
    "print(colored(f'test_accuracy_2 : {round(test_accuracy_2,2)}',color='light_magenta'))\n",
    "print(colored(f'accuracy_score_2 : {round(accuracy_score_2,2)}',color='light_magenta'))\n",
    "print(colored(f'precision_score_2 : {round(precision_score_2,2)}',color='light_magenta'))\n",
    "print(colored(f'recall_score_2 : {round(recall_score_2,2)}',color='light_magenta'))\n",
    "print(colored(f'f1_score_2 : {round(f1_score_2,2)}',color='light_magenta'))\n",
    "print(colored(f'\\nconfusion_matrix_2 :\\n {cm_2}',color='light_yellow'))"
   ]
  },
  {
   "cell_type": "markdown",
   "id": "b5b21c51",
   "metadata": {},
   "source": [
    "##### Heatmap:"
   ]
  },
  {
   "cell_type": "code",
   "execution_count": 54,
   "id": "e5087179",
   "metadata": {},
   "outputs": [
    {
     "data": {
      "text/plain": [
       "<Axes: >"
      ]
     },
     "execution_count": 54,
     "metadata": {},
     "output_type": "execute_result"
    },
    {
     "data": {
      "image/png": "[encoded data removed]",
      "text/plain": [
       "<Figure size 640x480 with 2 Axes>"
      ]
     },
     "metadata": {},
     "output_type": "display_data"
    }
   ],
   "source": [
    "sns.heatmap(cm_2, annot=True)"
   ]
  },
  {
   "cell_type": "markdown",
   "id": "3832fa7e",
   "metadata": {},
   "source": [
    "##### RocCurve visualization:"
   ]
  },
  {
   "cell_type": "code",
   "execution_count": 55,
   "id": "132fa2b3",
   "metadata": {},
   "outputs": [
    {
     "data": {
      "image/png": "[encoded data removed]",
      "text/plain": [
       "<Figure size 640x480 with 1 Axes>"
      ]
     },
     "metadata": {},
     "output_type": "display_data"
    }
   ],
   "source": [
    "RocCurveDisplay.from_predictions(y_2test, MNB_model.predict(x_2test))\n",
    "#plt.plot([0,1],[0,1])\n",
    "plt.show()"
   ]
  },
  {
   "cell_type": "code",
   "execution_count": 56,
   "id": "137c2017",
   "metadata": {},
   "outputs": [
    {
     "data": {
      "image/png": "[encoded data removed]",
      "text/plain": [
       "<Figure size 640x480 with 1 Axes>"
      ]
     },
     "metadata": {},
     "output_type": "display_data"
    }
   ],
   "source": [
    "RocCurveDisplay.from_predictions(y_2test, MNB_model.predict(x_2test))\n",
    "plt.plot([0,1],[0,1])\n",
    "plt.show()"
   ]
  },
  {
   "cell_type": "markdown",
   "id": "fb29c92a",
   "metadata": {},
   "source": [
    "### 3. Apply Random Forest Model-"
   ]
  },
  {
   "cell_type": "markdown",
   "id": "0c674134",
   "metadata": {},
   "source": [
    "Before applying Random Forest model to my dataset, I apply hyperparameter tuning XGBoost Classifier to balance imbalanced data in my dataframe."
   ]
  },
  {
   "cell_type": "markdown",
   "id": "39607b11",
   "metadata": {},
   "source": [
    "#### XGBoost Classifier:"
   ]
  },
  {
   "cell_type": "code",
   "execution_count": 57,
   "id": "1fccbfcc",
   "metadata": {},
   "outputs": [],
   "source": [
    "xgb_3 = XGBClassifier()"
   ]
  },
  {
   "cell_type": "code",
   "execution_count": 58,
   "id": "7ad8e9ea",
   "metadata": {},
   "outputs": [],
   "source": [
    "x_3train, x_3test, y_3train, y_3test = train_test_split(x, y, test_size=0.2, random_state=42)"
   ]
  },
  {
   "cell_type": "code",
   "execution_count": 59,
   "id": "8a674387",
   "metadata": {},
   "outputs": [
    {
     "data": {
      "text/html": [
       "<style>#sk-container-id-5 {color: black;}#sk-container-id-5 pre{padding: 0;}#sk-container-id-5 div.sk-toggleable {background-color: white;}#sk-container-id-5 label.sk-toggleable__label {cursor: pointer;display: block;width: 100%;margin-bottom: 0;padding: 0.3em;box-sizing: border-box;text-align: center;}#sk-container-id-5 label.sk-toggleable__label-arrow:before {content: \"▸\";float: left;margin-right: 0.25em;color: #696969;}#sk-container-id-5 label.sk-toggleable__label-arrow:hover:before {color: black;}#sk-container-id-5 div.sk-estimator:hover label.sk-toggleable__label-arrow:before {color: black;}#sk-container-id-5 div.sk-toggleable__content {max-height: 0;max-width: 0;overflow: hidden;text-align: left;background-color: #f0f8ff;}#sk-container-id-5 div.sk-toggleable__content pre {margin: 0.2em;color: black;border-radius: 0.25em;background-color: #f0f8ff;}#sk-container-id-5 input.sk-toggleable__control:checked~div.sk-toggleable__content {max-height: 200px;max-width: 100%;overflow: auto;}#sk-container-id-5 input.sk-toggleable__control:checked~label.sk-toggleable__label-arrow:before {content: \"▾\";}#sk-container-id-5 div.sk-estimator input.sk-toggleable__control:checked~label.sk-toggleable__label {background-color: #d4ebff;}#sk-container-id-5 div.sk-label input.sk-toggleable__control:checked~label.sk-toggleable__label {background-color: #d4ebff;}#sk-container-id-5 input.sk-hidden--visually {border: 0;clip: rect(1px 1px 1px 1px);clip: rect(1px, 1px, 1px, 1px);height: 1px;margin: -1px;overflow: hidden;padding: 0;position: absolute;width: 1px;}#sk-container-id-5 div.sk-estimator {font-family: monospace;background-color: #f0f8ff;border: 1px dotted black;border-radius: 0.25em;box-sizing: border-box;margin-bottom: 0.5em;}#sk-container-id-5 div.sk-estimator:hover {background-color: #d4ebff;}#sk-container-id-5 div.sk-parallel-item::after {content: \"\";width: 100%;border-bottom: 1px solid gray;flex-grow: 1;}#sk-container-id-5 div.sk-label:hover label.sk-toggleable__label {background-color: #d4ebff;}#sk-container-id-5 div.sk-serial::before {content: \"\";position: absolute;border-left: 1px solid gray;box-sizing: border-box;top: 0;bottom: 0;left: 50%;z-index: 0;}#sk-container-id-5 div.sk-serial {display: flex;flex-direction: column;align-items: center;background-color: white;padding-right: 0.2em;padding-left: 0.2em;position: relative;}#sk-container-id-5 div.sk-item {position: relative;z-index: 1;}#sk-container-id-5 div.sk-parallel {display: flex;align-items: stretch;justify-content: center;background-color: white;position: relative;}#sk-container-id-5 div.sk-item::before, #sk-container-id-5 div.sk-parallel-item::before {content: \"\";position: absolute;border-left: 1px solid gray;box-sizing: border-box;top: 0;bottom: 0;left: 50%;z-index: -1;}#sk-container-id-5 div.sk-parallel-item {display: flex;flex-direction: column;z-index: 1;position: relative;background-color: white;}#sk-container-id-5 div.sk-parallel-item:first-child::after {align-self: flex-end;width: 50%;}#sk-container-id-5 div.sk-parallel-item:last-child::after {align-self: flex-start;width: 50%;}#sk-container-id-5 div.sk-parallel-item:only-child::after {width: 0;}#sk-container-id-5 div.sk-dashed-wrapped {border: 1px dashed gray;margin: 0 0.4em 0.5em 0.4em;box-sizing: border-box;padding-bottom: 0.4em;background-color: white;}#sk-container-id-5 div.sk-label label {font-family: monospace;font-weight: bold;display: inline-block;line-height: 1.2em;}#sk-container-id-5 div.sk-label-container {text-align: center;}#sk-container-id-5 div.sk-container {/* jupyter's `normalize.less` sets `[hidden] { display: none; }` but bootstrap.min.css set `[hidden] { display: none !important; }` so we also need the `!important` here to be able to override the default hidden behavior on the sphinx rendered scikit-learn.org. See: https://github.com/scikit-learn/scikit-learn/issues/21755 */display: inline-block !important;position: relative;}#sk-container-id-5 div.sk-text-repr-fallback {display: none;}</style><div id=\"sk-container-id-5\" class=\"sk-top-container\"><div class=\"sk-text-repr-fallback\"><pre>XGBClassifier(base_score=None, booster=None, callbacks=None,\n",
       "              colsample_bylevel=None, colsample_bynode=None,\n",
       "              colsample_bytree=None, device=None, early_stopping_rounds=None,\n",
       "              enable_categorical=False, eval_metric=None, feature_types=None,\n",
       "              gamma=None, grow_policy=None, importance_type=None,\n",
       "              interaction_constraints=None, learning_rate=None, max_bin=None,\n",
       "              max_cat_threshold=None, max_cat_to_onehot=None,\n",
       "              max_delta_step=None, max_depth=None, max_leaves=None,\n",
       "              min_child_weight=None, missing=nan, monotone_constraints=None,\n",
       "              multi_strategy=None, n_estimators=None, n_jobs=None,\n",
       "              num_parallel_tree=None, random_state=None, ...)</pre><b>In a Jupyter environment, please rerun this cell to show the HTML representation or trust the notebook. <br />On GitHub, the HTML representation is unable to render, please try loading this page with nbviewer.org.</b></div><div class=\"sk-container\" hidden><div class=\"sk-item\"><div class=\"sk-estimator sk-toggleable\"><input class=\"sk-toggleable__control sk-hidden--visually\" id=\"sk-estimator-id-5\" type=\"checkbox\" checked><label for=\"sk-estimator-id-5\" class=\"sk-toggleable__label sk-toggleable__label-arrow\">XGBClassifier</label><div class=\"sk-toggleable__content\"><pre>XGBClassifier(base_score=None, booster=None, callbacks=None,\n",
       "              colsample_bylevel=None, colsample_bynode=None,\n",
       "              colsample_bytree=None, device=None, early_stopping_rounds=None,\n",
       "              enable_categorical=False, eval_metric=None, feature_types=None,\n",
       "              gamma=None, grow_policy=None, importance_type=None,\n",
       "              interaction_constraints=None, learning_rate=None, max_bin=None,\n",
       "              max_cat_threshold=None, max_cat_to_onehot=None,\n",
       "              max_delta_step=None, max_depth=None, max_leaves=None,\n",
       "              min_child_weight=None, missing=nan, monotone_constraints=None,\n",
       "              multi_strategy=None, n_estimators=None, n_jobs=None,\n",
       "              num_parallel_tree=None, random_state=None, ...)</pre></div></div></div></div></div>"
      ],
      "text/plain": [
       "XGBClassifier(base_score=None, booster=None, callbacks=None,\n",
       "              colsample_bylevel=None, colsample_bynode=None,\n",
       "              colsample_bytree=None, device=None, early_stopping_rounds=None,\n",
       "              enable_categorical=False, eval_metric=None, feature_types=None,\n",
       "              gamma=None, grow_policy=None, importance_type=None,\n",
       "              interaction_constraints=None, learning_rate=None, max_bin=None,\n",
       "              max_cat_threshold=None, max_cat_to_onehot=None,\n",
       "              max_delta_step=None, max_depth=None, max_leaves=None,\n",
       "              min_child_weight=None, missing=nan, monotone_constraints=None,\n",
       "              multi_strategy=None, n_estimators=None, n_jobs=None,\n",
       "              num_parallel_tree=None, random_state=None, ...)"
      ]
     },
     "execution_count": 59,
     "metadata": {},
     "output_type": "execute_result"
    }
   ],
   "source": [
    "xgb_3.fit(x_3train, y_3train) "
   ]
  },
  {
   "cell_type": "markdown",
   "id": "c56cf0e8",
   "metadata": {},
   "source": [
    "#### Random Forest Classifier:"
   ]
  },
  {
   "cell_type": "code",
   "execution_count": 60,
   "id": "0d083626",
   "metadata": {},
   "outputs": [],
   "source": [
    "from sklearn.ensemble import RandomForestClassifier"
   ]
  },
  {
   "cell_type": "code",
   "execution_count": 61,
   "id": "f6ba8fca",
   "metadata": {},
   "outputs": [],
   "source": [
    "rf_clf = RandomForestClassifier(n_estimators=100, random_state=42)"
   ]
  },
  {
   "cell_type": "code",
   "execution_count": 62,
   "id": "2486d90d",
   "metadata": {},
   "outputs": [
    {
     "data": {
      "text/html": [
       "<style>#sk-container-id-6 {color: black;}#sk-container-id-6 pre{padding: 0;}#sk-container-id-6 div.sk-toggleable {background-color: white;}#sk-container-id-6 label.sk-toggleable__label {cursor: pointer;display: block;width: 100%;margin-bottom: 0;padding: 0.3em;box-sizing: border-box;text-align: center;}#sk-container-id-6 label.sk-toggleable__label-arrow:before {content: \"▸\";float: left;margin-right: 0.25em;color: #696969;}#sk-container-id-6 label.sk-toggleable__label-arrow:hover:before {color: black;}#sk-container-id-6 div.sk-estimator:hover label.sk-toggleable__label-arrow:before {color: black;}#sk-container-id-6 div.sk-toggleable__content {max-height: 0;max-width: 0;overflow: hidden;text-align: left;background-color: #f0f8ff;}#sk-container-id-6 div.sk-toggleable__content pre {margin: 0.2em;color: black;border-radius: 0.25em;background-color: #f0f8ff;}#sk-container-id-6 input.sk-toggleable__control:checked~div.sk-toggleable__content {max-height: 200px;max-width: 100%;overflow: auto;}#sk-container-id-6 input.sk-toggleable__control:checked~label.sk-toggleable__label-arrow:before {content: \"▾\";}#sk-container-id-6 div.sk-estimator input.sk-toggleable__control:checked~label.sk-toggleable__label {background-color: #d4ebff;}#sk-container-id-6 div.sk-label input.sk-toggleable__control:checked~label.sk-toggleable__label {background-color: #d4ebff;}#sk-container-id-6 input.sk-hidden--visually {border: 0;clip: rect(1px 1px 1px 1px);clip: rect(1px, 1px, 1px, 1px);height: 1px;margin: -1px;overflow: hidden;padding: 0;position: absolute;width: 1px;}#sk-container-id-6 div.sk-estimator {font-family: monospace;background-color: #f0f8ff;border: 1px dotted black;border-radius: 0.25em;box-sizing: border-box;margin-bottom: 0.5em;}#sk-container-id-6 div.sk-estimator:hover {background-color: #d4ebff;}#sk-container-id-6 div.sk-parallel-item::after {content: \"\";width: 100%;border-bottom: 1px solid gray;flex-grow: 1;}#sk-container-id-6 div.sk-label:hover label.sk-toggleable__label {background-color: #d4ebff;}#sk-container-id-6 div.sk-serial::before {content: \"\";position: absolute;border-left: 1px solid gray;box-sizing: border-box;top: 0;bottom: 0;left: 50%;z-index: 0;}#sk-container-id-6 div.sk-serial {display: flex;flex-direction: column;align-items: center;background-color: white;padding-right: 0.2em;padding-left: 0.2em;position: relative;}#sk-container-id-6 div.sk-item {position: relative;z-index: 1;}#sk-container-id-6 div.sk-parallel {display: flex;align-items: stretch;justify-content: center;background-color: white;position: relative;}#sk-container-id-6 div.sk-item::before, #sk-container-id-6 div.sk-parallel-item::before {content: \"\";position: absolute;border-left: 1px solid gray;box-sizing: border-box;top: 0;bottom: 0;left: 50%;z-index: -1;}#sk-container-id-6 div.sk-parallel-item {display: flex;flex-direction: column;z-index: 1;position: relative;background-color: white;}#sk-container-id-6 div.sk-parallel-item:first-child::after {align-self: flex-end;width: 50%;}#sk-container-id-6 div.sk-parallel-item:last-child::after {align-self: flex-start;width: 50%;}#sk-container-id-6 div.sk-parallel-item:only-child::after {width: 0;}#sk-container-id-6 div.sk-dashed-wrapped {border: 1px dashed gray;margin: 0 0.4em 0.5em 0.4em;box-sizing: border-box;padding-bottom: 0.4em;background-color: white;}#sk-container-id-6 div.sk-label label {font-family: monospace;font-weight: bold;display: inline-block;line-height: 1.2em;}#sk-container-id-6 div.sk-label-container {text-align: center;}#sk-container-id-6 div.sk-container {/* jupyter's `normalize.less` sets `[hidden] { display: none; }` but bootstrap.min.css set `[hidden] { display: none !important; }` so we also need the `!important` here to be able to override the default hidden behavior on the sphinx rendered scikit-learn.org. See: https://github.com/scikit-learn/scikit-learn/issues/21755 */display: inline-block !important;position: relative;}#sk-container-id-6 div.sk-text-repr-fallback {display: none;}</style><div id=\"sk-container-id-6\" class=\"sk-top-container\"><div class=\"sk-text-repr-fallback\"><pre>RandomForestClassifier(random_state=42)</pre><b>In a Jupyter environment, please rerun this cell to show the HTML representation or trust the notebook. <br />On GitHub, the HTML representation is unable to render, please try loading this page with nbviewer.org.</b></div><div class=\"sk-container\" hidden><div class=\"sk-item\"><div class=\"sk-estimator sk-toggleable\"><input class=\"sk-toggleable__control sk-hidden--visually\" id=\"sk-estimator-id-6\" type=\"checkbox\" checked><label for=\"sk-estimator-id-6\" class=\"sk-toggleable__label sk-toggleable__label-arrow\">RandomForestClassifier</label><div class=\"sk-toggleable__content\"><pre>RandomForestClassifier(random_state=42)</pre></div></div></div></div></div>"
      ],
      "text/plain": [
       "RandomForestClassifier(random_state=42)"
      ]
     },
     "execution_count": 62,
     "metadata": {},
     "output_type": "execute_result"
    }
   ],
   "source": [
    "rf_clf.fit(x_3train, y_3train)"
   ]
  },
  {
   "cell_type": "code",
   "execution_count": 63,
   "id": "7af0ad58",
   "metadata": {},
   "outputs": [
    {
     "data": {
      "text/plain": [
       "array([1, 1, 1, ..., 1, 1, 1], dtype=int64)"
      ]
     },
     "execution_count": 63,
     "metadata": {},
     "output_type": "execute_result"
    }
   ],
   "source": [
    "rf_clf.predict(x_3test)"
   ]
  },
  {
   "cell_type": "code",
   "execution_count": 64,
   "id": "49319a66",
   "metadata": {},
   "outputs": [
    {
     "data": {
      "text/plain": [
       "array([1, 0, 1, ..., 1, 1, 0], dtype=int64)"
      ]
     },
     "execution_count": 64,
     "metadata": {},
     "output_type": "execute_result"
    }
   ],
   "source": [
    "np.array(y_3test)"
   ]
  },
  {
   "cell_type": "markdown",
   "id": "1c433e50",
   "metadata": {},
   "source": [
    "#### Evaluate Random Forest Classifier Model-"
   ]
  },
  {
   "cell_type": "code",
   "execution_count": 65,
   "id": "e7c150c2",
   "metadata": {},
   "outputs": [
    {
     "data": {
      "text/plain": [
       "((16000, 22609), (16000,))"
      ]
     },
     "execution_count": 65,
     "metadata": {},
     "output_type": "execute_result"
    }
   ],
   "source": [
    "x_3train.shape,y_3train.shape"
   ]
  },
  {
   "cell_type": "code",
   "execution_count": 66,
   "id": "f67cb3ef",
   "metadata": {},
   "outputs": [
    {
     "data": {
      "text/plain": [
       "((4000, 22609), (4000,))"
      ]
     },
     "execution_count": 66,
     "metadata": {},
     "output_type": "execute_result"
    }
   ],
   "source": [
    "x_3test.shape,y_3test.shape"
   ]
  },
  {
   "cell_type": "code",
   "execution_count": 67,
   "id": "a1ebeac7",
   "metadata": {},
   "outputs": [],
   "source": [
    "from sklearn.metrics import classification_report, accuracy_score, precision_score\n",
    "from sklearn.metrics import recall_score, f1_score, confusion_matrix,RocCurveDisplay"
   ]
  },
  {
   "cell_type": "code",
   "execution_count": 68,
   "id": "dcd80517",
   "metadata": {},
   "outputs": [
    {
     "name": "stdout",
     "output_type": "stream",
     "text": [
      "\u001b[2m\u001b[1m\u001b[34mModel Evaluation:\n",
      "\u001b[0m\n",
      "\u001b[95mtrain_accuracy_2 : 1.0\u001b[0m\n",
      "\u001b[95mtest_accuracy_2 : 0.87\u001b[0m\n",
      "\u001b[95maccuracy_score_2 : 0.87\u001b[0m\n",
      "\u001b[95mprecision_score_2 : 0.86\u001b[0m\n",
      "\u001b[95mrecall_score_2 : 0.98\u001b[0m\n",
      "\u001b[95mf1_score_2 : 0.92\u001b[0m\n",
      "\u001b[93m\n",
      "confusion_matrix_2 :\n",
      " [[ 491  467]\n",
      " [  69 2973]]\u001b[0m\n"
     ]
    }
   ],
   "source": [
    "train_accuracy_3 = rf_clf.score(x_3train,y_3train)\n",
    "test_accuracy_3 = rf_clf.score(x_3test, y_3test)\n",
    "accuracy_score_3 = accuracy_score(y_3test, rf_clf.predict(x_3test))\n",
    "precision_score_3 = precision_score(y_3test, rf_clf.predict(x_3test))\n",
    "recall_score_3 = recall_score(y_3test, rf_clf.predict(x_3test))\n",
    "f1_score_3 = f1_score(y_3test, rf_clf.predict(x_3test))\n",
    "cm_3 = confusion_matrix(y_3test, rf_clf.predict(x_3test))\n",
    "\n",
    "print(colored('Model Evaluation:\\n',color = 'blue', attrs = ['bold','dark']))\n",
    "print(colored(f'train_accuracy_2 : {round(train_accuracy_3,2)}',color='light_magenta'))\n",
    "print(colored(f'test_accuracy_2 : {round(test_accuracy_3,2)}',color='light_magenta'))\n",
    "print(colored(f'accuracy_score_2 : {round(accuracy_score_3,2)}',color='light_magenta'))\n",
    "print(colored(f'precision_score_2 : {round(precision_score_3,2)}',color='light_magenta'))\n",
    "print(colored(f'recall_score_2 : {round(recall_score_3,2)}',color='light_magenta'))\n",
    "print(colored(f'f1_score_2 : {round(f1_score_3,2)}',color='light_magenta'))\n",
    "print(colored(f'\\nconfusion_matrix_2 :\\n {cm_3}',color='light_yellow'))"
   ]
  },
  {
   "cell_type": "markdown",
   "id": "e5a1958c",
   "metadata": {},
   "source": [
    "##### Heatmap:"
   ]
  },
  {
   "cell_type": "code",
   "execution_count": 69,
   "id": "e96bbe42",
   "metadata": {},
   "outputs": [
    {
     "data": {
      "text/plain": [
       "<Axes: >"
      ]
     },
     "execution_count": 69,
     "metadata": {},
     "output_type": "execute_result"
    },
    {
     "data": {
      "image/png": "[encoded data removed]",
      "text/plain": [
       "<Figure size 640x480 with 2 Axes>"
      ]
     },
     "metadata": {},
     "output_type": "display_data"
    }
   ],
   "source": [
    "sns.heatmap(cm_3, annot=True)"
   ]
  },
  {
   "cell_type": "markdown",
   "id": "2793844f",
   "metadata": {},
   "source": [
    "##### RocCurve visualization:"
   ]
  },
  {
   "cell_type": "code",
   "execution_count": 70,
   "id": "0106d79e",
   "metadata": {},
   "outputs": [
    {
     "data": {
      "image/png": "[encoded data removed]",
      "text/plain": [
       "<Figure size 640x480 with 1 Axes>"
      ]
     },
     "metadata": {},
     "output_type": "display_data"
    }
   ],
   "source": [
    "RocCurveDisplay.from_predictions(y_3test, rf_clf.predict(x_3test))\n",
    "#plt.plot([0,1],[0,1])\n",
    "plt.show()"
   ]
  },
  {
   "cell_type": "code",
   "execution_count": 71,
   "id": "7a3a6ce5",
   "metadata": {},
   "outputs": [
    {
     "data": {
      "image/png": "[encoded data removed]",
      "text/plain": [
       "<Figure size 640x480 with 1 Axes>"
      ]
     },
     "metadata": {},
     "output_type": "display_data"
    }
   ],
   "source": [
    "RocCurveDisplay.from_predictions(y_3test, rf_clf.predict(x_3test))\n",
    "plt.plot([0,1],[0,1])\n",
    "plt.show()"
   ]
  },
  {
   "cell_type": "markdown",
   "id": "ae38836b",
   "metadata": {},
   "source": [
    "### Step 8:Performance Visualization-"
   ]
  },
  {
   "cell_type": "markdown",
   "id": "52ff1195",
   "metadata": {},
   "source": [
    "#### 1. Visualize performance with table-"
   ]
  },
  {
   "cell_type": "code",
   "execution_count": 72,
   "id": "d7eee471",
   "metadata": {},
   "outputs": [
    {
     "data": {
      "text/html": [
       "<div>\n",
       "<style scoped>\n",
       "    .dataframe tbody tr th:only-of-type {\n",
       "        vertical-align: middle;\n",
       "    }\n",
       "\n",
       "    .dataframe tbody tr th {\n",
       "        vertical-align: top;\n",
       "    }\n",
       "\n",
       "    .dataframe thead th {\n",
       "        text-align: right;\n",
       "    }\n",
       "</style>\n",
       "<table border=\"1\" class=\"dataframe\">\n",
       "  <thead>\n",
       "    <tr style=\"text-align: right;\">\n",
       "      <th></th>\n",
       "      <th>model</th>\n",
       "      <th>train accuracy</th>\n",
       "      <th>test accuracy</th>\n",
       "      <th>accuracy score</th>\n",
       "      <th>precision score</th>\n",
       "      <th>recall score</th>\n",
       "      <th>f1_score</th>\n",
       "    </tr>\n",
       "  </thead>\n",
       "  <tbody>\n",
       "    <tr>\n",
       "      <th>0</th>\n",
       "      <td>Logistic Regression</td>\n",
       "      <td>0.92</td>\n",
       "      <td>0.89</td>\n",
       "      <td>0.89</td>\n",
       "      <td>0.90</td>\n",
       "      <td>0.97</td>\n",
       "      <td>0.93</td>\n",
       "    </tr>\n",
       "    <tr>\n",
       "      <th>1</th>\n",
       "      <td>Naive Bayes</td>\n",
       "      <td>0.82</td>\n",
       "      <td>0.79</td>\n",
       "      <td>0.79</td>\n",
       "      <td>0.78</td>\n",
       "      <td>1.00</td>\n",
       "      <td>0.88</td>\n",
       "    </tr>\n",
       "    <tr>\n",
       "      <th>2</th>\n",
       "      <td>Random Forest</td>\n",
       "      <td>1.00</td>\n",
       "      <td>0.87</td>\n",
       "      <td>0.87</td>\n",
       "      <td>0.86</td>\n",
       "      <td>0.98</td>\n",
       "      <td>0.92</td>\n",
       "    </tr>\n",
       "  </tbody>\n",
       "</table>\n",
       "</div>"
      ],
      "text/plain": [
       "                 model  train accuracy  test accuracy  accuracy score  \\\n",
       "0  Logistic Regression            0.92           0.89            0.89   \n",
       "1          Naive Bayes            0.82           0.79            0.79   \n",
       "2        Random Forest            1.00           0.87            0.87   \n",
       "\n",
       "   precision score  recall score  f1_score  \n",
       "0             0.90          0.97      0.93  \n",
       "1             0.78          1.00      0.88  \n",
       "2             0.86          0.98      0.92  "
      ]
     },
     "execution_count": 72,
     "metadata": {},
     "output_type": "execute_result"
    }
   ],
   "source": [
    "d = {\n",
    "    'model' : ['Logistic Regression','Naive Bayes', 'Random Forest'],  \n",
    "    'train accuracy': [train_accuracy_1,train_accuracy_2,train_accuracy_3],\n",
    "    'test accuracy': [test_accuracy_1,test_accuracy_2,test_accuracy_3],\n",
    "    'accuracy score': [accuracy_score_1,accuracy_score_2,accuracy_score_3],\n",
    "    'precision score': [precision_score_1,precision_score_2,precision_score_3],\n",
    "    'recall score': [recall_score_1,recall_score_2,recall_score_3],\n",
    "    'f1_score': [f1_score_1,f1_score_2,f1_score_3],  \n",
    "}\n",
    "\n",
    "\n",
    "d = pd.DataFrame(d)\n",
    "\n",
    "d['train accuracy'] = d['train accuracy'].round(2)\n",
    "d['test accuracy'] = d['test accuracy'].round(2)\n",
    "d['accuracy score'] = d['accuracy score'].round(2)\n",
    "d['precision score'] = d['precision score'].round(2)\n",
    "d['recall score'] = d['recall score'].round(2)\n",
    "d['f1_score'] = d['f1_score'].round(2)\n",
    "\n",
    "d"
   ]
  },
  {
   "cell_type": "markdown",
   "id": "6f2fe72d",
   "metadata": {},
   "source": [
    "#### 2. Visualize performance with histogram-"
   ]
  },
  {
   "cell_type": "code",
   "execution_count": 73,
   "id": "9f4d5a46",
   "metadata": {},
   "outputs": [
    {
     "data": {
      "image/png": "[encoded data removed]",
      "text/plain": [
       "<Figure size 1000x500 with 1 Axes>"
      ]
     },
     "metadata": {},
     "output_type": "display_data"
    }
   ],
   "source": [
    "def plot_histogram(metric_values, model_names, metric_name):\n",
    "    fig, ax = plt.subplots(figsize=(10, 5))\n",
    "    bars = plt.bar(model_names, metric_values)\n",
    "    plt.xlabel('Models')\n",
    "    plt.ylabel(metric_name)\n",
    "    plt.title(f'{metric_name} for Different Models')\n",
    "\n",
    "    for bar in bars:\n",
    "        yval = bar.get_height()\n",
    "        ax.text(bar.get_x() + bar.get_width()/2, yval, round(yval, 3), ha='center', va='bottom', color='black', fontweight='bold')\n",
    "    plt.show()\n",
    "\n",
    "accuracy_values = [accuracy_score_1, accuracy_score_2, accuracy_score_3]\n",
    "model_names = ['Logistic Regression', 'Multinomial Naive Bayes', 'Random Forest Classifier']\n",
    "plot_histogram(accuracy_values, model_names, 'Accuracy')\n"
   ]
  },
  {
   "cell_type": "markdown",
   "id": "ffdab7a6",
   "metadata": {},
   "source": [
    "### Step 9:Conclusion-"
   ]
  },
  {
   "cell_type": "markdown",
   "id": "b330f1d4",
   "metadata": {},
   "source": [
    "Comparing Logistic Regression, Multinomial Naive Bayes, Random Forest Classifier model, I see Logistic Regression gives the best result with highest 89.2% accuracy, 90% precision, 97% recall, 93% f1_score. "
   ]
  },
  {
   "cell_type": "code",
   "execution_count": null,
   "id": "eaec59e0",
   "metadata": {},
   "outputs": [],
   "source": []
  }
 ],
 "metadata": {
  "kernelspec": {
   "display_name": "Python 3 (ipykernel)",
   "language": "python",
   "name": "python3"
  },
  "language_info": {
   "codemirror_mode": {
    "name": "ipython",
    "version": 3
   },
   "file_extension": ".py",
   "mimetype": "text/x-python",
   "name": "python",
   "nbconvert_exporter": "python",
   "pygments_lexer": "ipython3",
   "version": "3.11.5"
  }
 },
 "nbformat": 4,
 "nbformat_minor": 5
}
